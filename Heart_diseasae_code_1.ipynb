{
 "cells": [
  {
   "cell_type": "markdown",
   "metadata": {},
   "source": [
    "### ENCODING THE DEPENDENT VARIABLE"
   ]
  },
  {
   "cell_type": "code",
   "execution_count": 1,
   "metadata": {},
   "outputs": [],
   "source": [
    "import pandas as pd\n",
    "import numpy as np\n",
    "import matplotlib.pyplot as plt\n",
    "%matplotlib inline"
   ]
  },
  {
   "cell_type": "code",
   "execution_count": 4,
   "metadata": {},
   "outputs": [
    {
     "data": {
      "text/html": [
       "<div>\n",
       "<style scoped>\n",
       "    .dataframe tbody tr th:only-of-type {\n",
       "        vertical-align: middle;\n",
       "    }\n",
       "\n",
       "    .dataframe tbody tr th {\n",
       "        vertical-align: top;\n",
       "    }\n",
       "\n",
       "    .dataframe thead th {\n",
       "        text-align: right;\n",
       "    }\n",
       "</style>\n",
       "<table border=\"1\" class=\"dataframe\">\n",
       "  <thead>\n",
       "    <tr style=\"text-align: right;\">\n",
       "      <th></th>\n",
       "      <th>age</th>\n",
       "      <th>sex</th>\n",
       "      <th>cp</th>\n",
       "      <th>trestbps</th>\n",
       "      <th>chol</th>\n",
       "      <th>fbs</th>\n",
       "      <th>restecg</th>\n",
       "      <th>thalach</th>\n",
       "      <th>exang</th>\n",
       "      <th>oldpeak</th>\n",
       "      <th>slope</th>\n",
       "      <th>ca</th>\n",
       "      <th>thal</th>\n",
       "      <th>target</th>\n",
       "    </tr>\n",
       "  </thead>\n",
       "  <tbody>\n",
       "    <tr>\n",
       "      <th>0</th>\n",
       "      <td>52</td>\n",
       "      <td>1</td>\n",
       "      <td>0</td>\n",
       "      <td>125</td>\n",
       "      <td>212</td>\n",
       "      <td>0</td>\n",
       "      <td>1</td>\n",
       "      <td>168</td>\n",
       "      <td>0</td>\n",
       "      <td>1.0</td>\n",
       "      <td>2</td>\n",
       "      <td>2</td>\n",
       "      <td>3</td>\n",
       "      <td>0</td>\n",
       "    </tr>\n",
       "    <tr>\n",
       "      <th>1</th>\n",
       "      <td>53</td>\n",
       "      <td>1</td>\n",
       "      <td>0</td>\n",
       "      <td>140</td>\n",
       "      <td>203</td>\n",
       "      <td>1</td>\n",
       "      <td>0</td>\n",
       "      <td>155</td>\n",
       "      <td>1</td>\n",
       "      <td>3.1</td>\n",
       "      <td>0</td>\n",
       "      <td>0</td>\n",
       "      <td>3</td>\n",
       "      <td>0</td>\n",
       "    </tr>\n",
       "    <tr>\n",
       "      <th>2</th>\n",
       "      <td>70</td>\n",
       "      <td>1</td>\n",
       "      <td>0</td>\n",
       "      <td>145</td>\n",
       "      <td>174</td>\n",
       "      <td>0</td>\n",
       "      <td>1</td>\n",
       "      <td>125</td>\n",
       "      <td>1</td>\n",
       "      <td>2.6</td>\n",
       "      <td>0</td>\n",
       "      <td>0</td>\n",
       "      <td>3</td>\n",
       "      <td>0</td>\n",
       "    </tr>\n",
       "    <tr>\n",
       "      <th>3</th>\n",
       "      <td>61</td>\n",
       "      <td>1</td>\n",
       "      <td>0</td>\n",
       "      <td>148</td>\n",
       "      <td>203</td>\n",
       "      <td>0</td>\n",
       "      <td>1</td>\n",
       "      <td>161</td>\n",
       "      <td>0</td>\n",
       "      <td>0.0</td>\n",
       "      <td>2</td>\n",
       "      <td>1</td>\n",
       "      <td>3</td>\n",
       "      <td>0</td>\n",
       "    </tr>\n",
       "    <tr>\n",
       "      <th>4</th>\n",
       "      <td>62</td>\n",
       "      <td>0</td>\n",
       "      <td>0</td>\n",
       "      <td>138</td>\n",
       "      <td>294</td>\n",
       "      <td>1</td>\n",
       "      <td>1</td>\n",
       "      <td>106</td>\n",
       "      <td>0</td>\n",
       "      <td>1.9</td>\n",
       "      <td>1</td>\n",
       "      <td>3</td>\n",
       "      <td>2</td>\n",
       "      <td>0</td>\n",
       "    </tr>\n",
       "    <tr>\n",
       "      <th>...</th>\n",
       "      <td>...</td>\n",
       "      <td>...</td>\n",
       "      <td>...</td>\n",
       "      <td>...</td>\n",
       "      <td>...</td>\n",
       "      <td>...</td>\n",
       "      <td>...</td>\n",
       "      <td>...</td>\n",
       "      <td>...</td>\n",
       "      <td>...</td>\n",
       "      <td>...</td>\n",
       "      <td>...</td>\n",
       "      <td>...</td>\n",
       "      <td>...</td>\n",
       "    </tr>\n",
       "    <tr>\n",
       "      <th>1020</th>\n",
       "      <td>59</td>\n",
       "      <td>1</td>\n",
       "      <td>1</td>\n",
       "      <td>140</td>\n",
       "      <td>221</td>\n",
       "      <td>0</td>\n",
       "      <td>1</td>\n",
       "      <td>164</td>\n",
       "      <td>1</td>\n",
       "      <td>0.0</td>\n",
       "      <td>2</td>\n",
       "      <td>0</td>\n",
       "      <td>2</td>\n",
       "      <td>1</td>\n",
       "    </tr>\n",
       "    <tr>\n",
       "      <th>1021</th>\n",
       "      <td>60</td>\n",
       "      <td>1</td>\n",
       "      <td>0</td>\n",
       "      <td>125</td>\n",
       "      <td>258</td>\n",
       "      <td>0</td>\n",
       "      <td>0</td>\n",
       "      <td>141</td>\n",
       "      <td>1</td>\n",
       "      <td>2.8</td>\n",
       "      <td>1</td>\n",
       "      <td>1</td>\n",
       "      <td>3</td>\n",
       "      <td>0</td>\n",
       "    </tr>\n",
       "    <tr>\n",
       "      <th>1022</th>\n",
       "      <td>47</td>\n",
       "      <td>1</td>\n",
       "      <td>0</td>\n",
       "      <td>110</td>\n",
       "      <td>275</td>\n",
       "      <td>0</td>\n",
       "      <td>0</td>\n",
       "      <td>118</td>\n",
       "      <td>1</td>\n",
       "      <td>1.0</td>\n",
       "      <td>1</td>\n",
       "      <td>1</td>\n",
       "      <td>2</td>\n",
       "      <td>0</td>\n",
       "    </tr>\n",
       "    <tr>\n",
       "      <th>1023</th>\n",
       "      <td>50</td>\n",
       "      <td>0</td>\n",
       "      <td>0</td>\n",
       "      <td>110</td>\n",
       "      <td>254</td>\n",
       "      <td>0</td>\n",
       "      <td>0</td>\n",
       "      <td>159</td>\n",
       "      <td>0</td>\n",
       "      <td>0.0</td>\n",
       "      <td>2</td>\n",
       "      <td>0</td>\n",
       "      <td>2</td>\n",
       "      <td>1</td>\n",
       "    </tr>\n",
       "    <tr>\n",
       "      <th>1024</th>\n",
       "      <td>54</td>\n",
       "      <td>1</td>\n",
       "      <td>0</td>\n",
       "      <td>120</td>\n",
       "      <td>188</td>\n",
       "      <td>0</td>\n",
       "      <td>1</td>\n",
       "      <td>113</td>\n",
       "      <td>0</td>\n",
       "      <td>1.4</td>\n",
       "      <td>1</td>\n",
       "      <td>1</td>\n",
       "      <td>3</td>\n",
       "      <td>0</td>\n",
       "    </tr>\n",
       "  </tbody>\n",
       "</table>\n",
       "<p>1025 rows × 14 columns</p>\n",
       "</div>"
      ],
      "text/plain": [
       "      age  sex  cp  trestbps  chol  fbs  restecg  thalach  exang  oldpeak  \\\n",
       "0      52    1   0       125   212    0        1      168      0      1.0   \n",
       "1      53    1   0       140   203    1        0      155      1      3.1   \n",
       "2      70    1   0       145   174    0        1      125      1      2.6   \n",
       "3      61    1   0       148   203    0        1      161      0      0.0   \n",
       "4      62    0   0       138   294    1        1      106      0      1.9   \n",
       "...   ...  ...  ..       ...   ...  ...      ...      ...    ...      ...   \n",
       "1020   59    1   1       140   221    0        1      164      1      0.0   \n",
       "1021   60    1   0       125   258    0        0      141      1      2.8   \n",
       "1022   47    1   0       110   275    0        0      118      1      1.0   \n",
       "1023   50    0   0       110   254    0        0      159      0      0.0   \n",
       "1024   54    1   0       120   188    0        1      113      0      1.4   \n",
       "\n",
       "      slope  ca  thal  target  \n",
       "0         2   2     3       0  \n",
       "1         0   0     3       0  \n",
       "2         0   0     3       0  \n",
       "3         2   1     3       0  \n",
       "4         1   3     2       0  \n",
       "...     ...  ..   ...     ...  \n",
       "1020      2   0     2       1  \n",
       "1021      1   1     3       0  \n",
       "1022      1   1     2       0  \n",
       "1023      2   0     2       1  \n",
       "1024      1   1     3       0  \n",
       "\n",
       "[1025 rows x 14 columns]"
      ]
     },
     "execution_count": 4,
     "metadata": {},
     "output_type": "execute_result"
    }
   ],
   "source": [
    "data= pd.read_csv(\"heart.csv\")\n",
    "data"
   ]
  },
  {
   "cell_type": "markdown",
   "metadata": {},
   "source": [
    "### WITHOUT OUTLIERS MODEL"
   ]
  },
  {
   "cell_type": "code",
   "execution_count": null,
   "metadata": {},
   "outputs": [],
   "source": []
  },
  {
   "cell_type": "markdown",
   "metadata": {},
   "source": [
    "### Remove outlier"
   ]
  },
  {
   "cell_type": "code",
   "execution_count": 3,
   "metadata": {},
   "outputs": [
    {
     "data": {
      "text/plain": [
       "array([1, 0], dtype=int64)"
      ]
     },
     "execution_count": 3,
     "metadata": {},
     "output_type": "execute_result"
    }
   ],
   "source": [
    "data[\"sex\"].unique()"
   ]
  },
  {
   "cell_type": "code",
   "execution_count": 391,
   "metadata": {},
   "outputs": [],
   "source": []
  },
  {
   "cell_type": "code",
   "execution_count": 392,
   "metadata": {
    "collapsed": true
   },
   "outputs": [
    {
     "data": {
      "text/html": [
       "<div>\n",
       "<style scoped>\n",
       "    .dataframe tbody tr th:only-of-type {\n",
       "        vertical-align: middle;\n",
       "    }\n",
       "\n",
       "    .dataframe tbody tr th {\n",
       "        vertical-align: top;\n",
       "    }\n",
       "\n",
       "    .dataframe thead th {\n",
       "        text-align: right;\n",
       "    }\n",
       "</style>\n",
       "<table border=\"1\" class=\"dataframe\">\n",
       "  <thead>\n",
       "    <tr style=\"text-align: right;\">\n",
       "      <th></th>\n",
       "      <th>age</th>\n",
       "      <th>sex</th>\n",
       "      <th>cp</th>\n",
       "      <th>trestbps</th>\n",
       "      <th>chol</th>\n",
       "      <th>fbs</th>\n",
       "      <th>restecg</th>\n",
       "      <th>thalach</th>\n",
       "      <th>exang</th>\n",
       "      <th>oldpeak</th>\n",
       "      <th>slope</th>\n",
       "      <th>ca</th>\n",
       "      <th>thal</th>\n",
       "      <th>target</th>\n",
       "    </tr>\n",
       "  </thead>\n",
       "  <tbody>\n",
       "    <tr>\n",
       "      <th>4</th>\n",
       "      <td>62</td>\n",
       "      <td>0</td>\n",
       "      <td>0</td>\n",
       "      <td>138</td>\n",
       "      <td>294</td>\n",
       "      <td>1</td>\n",
       "      <td>1</td>\n",
       "      <td>106</td>\n",
       "      <td>0</td>\n",
       "      <td>1.9</td>\n",
       "      <td>1</td>\n",
       "      <td>3</td>\n",
       "      <td>2</td>\n",
       "      <td>0</td>\n",
       "    </tr>\n",
       "    <tr>\n",
       "      <th>6</th>\n",
       "      <td>58</td>\n",
       "      <td>1</td>\n",
       "      <td>0</td>\n",
       "      <td>114</td>\n",
       "      <td>318</td>\n",
       "      <td>0</td>\n",
       "      <td>2</td>\n",
       "      <td>140</td>\n",
       "      <td>0</td>\n",
       "      <td>4.4</td>\n",
       "      <td>0</td>\n",
       "      <td>3</td>\n",
       "      <td>1</td>\n",
       "      <td>0</td>\n",
       "    </tr>\n",
       "    <tr>\n",
       "      <th>13</th>\n",
       "      <td>51</td>\n",
       "      <td>1</td>\n",
       "      <td>0</td>\n",
       "      <td>140</td>\n",
       "      <td>298</td>\n",
       "      <td>0</td>\n",
       "      <td>1</td>\n",
       "      <td>122</td>\n",
       "      <td>1</td>\n",
       "      <td>4.2</td>\n",
       "      <td>1</td>\n",
       "      <td>3</td>\n",
       "      <td>3</td>\n",
       "      <td>0</td>\n",
       "    </tr>\n",
       "    <tr>\n",
       "      <th>14</th>\n",
       "      <td>52</td>\n",
       "      <td>1</td>\n",
       "      <td>0</td>\n",
       "      <td>128</td>\n",
       "      <td>204</td>\n",
       "      <td>1</td>\n",
       "      <td>1</td>\n",
       "      <td>156</td>\n",
       "      <td>1</td>\n",
       "      <td>1.0</td>\n",
       "      <td>1</td>\n",
       "      <td>0</td>\n",
       "      <td>0</td>\n",
       "      <td>0</td>\n",
       "    </tr>\n",
       "    <tr>\n",
       "      <th>29</th>\n",
       "      <td>55</td>\n",
       "      <td>0</td>\n",
       "      <td>0</td>\n",
       "      <td>180</td>\n",
       "      <td>327</td>\n",
       "      <td>0</td>\n",
       "      <td>2</td>\n",
       "      <td>117</td>\n",
       "      <td>1</td>\n",
       "      <td>3.4</td>\n",
       "      <td>1</td>\n",
       "      <td>0</td>\n",
       "      <td>2</td>\n",
       "      <td>0</td>\n",
       "    </tr>\n",
       "    <tr>\n",
       "      <th>...</th>\n",
       "      <td>...</td>\n",
       "      <td>...</td>\n",
       "      <td>...</td>\n",
       "      <td>...</td>\n",
       "      <td>...</td>\n",
       "      <td>...</td>\n",
       "      <td>...</td>\n",
       "      <td>...</td>\n",
       "      <td>...</td>\n",
       "      <td>...</td>\n",
       "      <td>...</td>\n",
       "      <td>...</td>\n",
       "      <td>...</td>\n",
       "      <td>...</td>\n",
       "    </tr>\n",
       "    <tr>\n",
       "      <th>993</th>\n",
       "      <td>43</td>\n",
       "      <td>1</td>\n",
       "      <td>0</td>\n",
       "      <td>132</td>\n",
       "      <td>247</td>\n",
       "      <td>1</td>\n",
       "      <td>0</td>\n",
       "      <td>143</td>\n",
       "      <td>1</td>\n",
       "      <td>0.1</td>\n",
       "      <td>1</td>\n",
       "      <td>4</td>\n",
       "      <td>3</td>\n",
       "      <td>0</td>\n",
       "    </tr>\n",
       "    <tr>\n",
       "      <th>996</th>\n",
       "      <td>56</td>\n",
       "      <td>0</td>\n",
       "      <td>0</td>\n",
       "      <td>134</td>\n",
       "      <td>409</td>\n",
       "      <td>0</td>\n",
       "      <td>0</td>\n",
       "      <td>150</td>\n",
       "      <td>1</td>\n",
       "      <td>1.9</td>\n",
       "      <td>1</td>\n",
       "      <td>2</td>\n",
       "      <td>3</td>\n",
       "      <td>0</td>\n",
       "    </tr>\n",
       "    <tr>\n",
       "      <th>1003</th>\n",
       "      <td>52</td>\n",
       "      <td>1</td>\n",
       "      <td>0</td>\n",
       "      <td>108</td>\n",
       "      <td>233</td>\n",
       "      <td>1</td>\n",
       "      <td>1</td>\n",
       "      <td>147</td>\n",
       "      <td>0</td>\n",
       "      <td>0.1</td>\n",
       "      <td>2</td>\n",
       "      <td>3</td>\n",
       "      <td>3</td>\n",
       "      <td>1</td>\n",
       "    </tr>\n",
       "    <tr>\n",
       "      <th>1013</th>\n",
       "      <td>58</td>\n",
       "      <td>1</td>\n",
       "      <td>0</td>\n",
       "      <td>114</td>\n",
       "      <td>318</td>\n",
       "      <td>0</td>\n",
       "      <td>2</td>\n",
       "      <td>140</td>\n",
       "      <td>0</td>\n",
       "      <td>4.4</td>\n",
       "      <td>0</td>\n",
       "      <td>3</td>\n",
       "      <td>1</td>\n",
       "      <td>0</td>\n",
       "    </tr>\n",
       "    <tr>\n",
       "      <th>1015</th>\n",
       "      <td>58</td>\n",
       "      <td>1</td>\n",
       "      <td>0</td>\n",
       "      <td>128</td>\n",
       "      <td>216</td>\n",
       "      <td>0</td>\n",
       "      <td>0</td>\n",
       "      <td>131</td>\n",
       "      <td>1</td>\n",
       "      <td>2.2</td>\n",
       "      <td>1</td>\n",
       "      <td>3</td>\n",
       "      <td>3</td>\n",
       "      <td>0</td>\n",
       "    </tr>\n",
       "  </tbody>\n",
       "</table>\n",
       "<p>140 rows × 14 columns</p>\n",
       "</div>"
      ],
      "text/plain": [
       "      age  sex  cp  trestbps  chol  fbs  restecg  thalach  exang  oldpeak  \\\n",
       "4      62    0   0       138   294    1        1      106      0      1.9   \n",
       "6      58    1   0       114   318    0        2      140      0      4.4   \n",
       "13     51    1   0       140   298    0        1      122      1      4.2   \n",
       "14     52    1   0       128   204    1        1      156      1      1.0   \n",
       "29     55    0   0       180   327    0        2      117      1      3.4   \n",
       "...   ...  ...  ..       ...   ...  ...      ...      ...    ...      ...   \n",
       "993    43    1   0       132   247    1        0      143      1      0.1   \n",
       "996    56    0   0       134   409    0        0      150      1      1.9   \n",
       "1003   52    1   0       108   233    1        1      147      0      0.1   \n",
       "1013   58    1   0       114   318    0        2      140      0      4.4   \n",
       "1015   58    1   0       128   216    0        0      131      1      2.2   \n",
       "\n",
       "      slope  ca  thal  target  \n",
       "4         1   3     2       0  \n",
       "6         0   3     1       0  \n",
       "13        1   3     3       0  \n",
       "14        1   0     0       0  \n",
       "29        1   0     2       0  \n",
       "...     ...  ..   ...     ...  \n",
       "993       1   4     3       0  \n",
       "996       1   2     3       0  \n",
       "1003      2   3     3       1  \n",
       "1013      0   3     1       0  \n",
       "1015      1   3     3       0  \n",
       "\n",
       "[140 rows x 14 columns]"
      ]
     },
     "execution_count": 392,
     "metadata": {},
     "output_type": "execute_result"
    }
   ],
   "source": [
    "df_new_IQR_AD"
   ]
  },
  {
   "cell_type": "code",
   "execution_count": 393,
   "metadata": {
    "collapsed": true
   },
   "outputs": [
    {
     "data": {
      "image/png": "[encoded data removed]",
      "text/plain": [
       "<Figure size 2880x1440 with 14 Axes>"
      ]
     },
     "metadata": {
      "needs_background": "light"
     },
     "output_type": "display_data"
    }
   ],
   "source": []
  },
  {
   "cell_type": "code",
   "execution_count": 11,
   "metadata": {},
   "outputs": [
    {
     "data": {
      "text/plain": [
       "Index(['age', 'sex', 'cp', 'trestbps', 'chol', 'fbs', 'restecg', 'thalach',\n",
       "       'exang', 'oldpeak', 'slope', 'ca', 'thal', 'target'],\n",
       "      dtype='object')"
      ]
     },
     "execution_count": 11,
     "metadata": {},
     "output_type": "execute_result"
    }
   ],
   "source": [
    "data.columns"
   ]
  },
  {
   "cell_type": "code",
   "execution_count": 5,
   "metadata": {},
   "outputs": [],
   "source": [
    "x=data.drop([\"target\"],axis=1)\n",
    "y=data[\"target\"]"
   ]
  },
  {
   "cell_type": "code",
   "execution_count": 6,
   "metadata": {},
   "outputs": [
    {
     "data": {
      "text/plain": [
       "Index(['age', 'sex', 'cp', 'trestbps', 'chol', 'fbs', 'restecg', 'thalach',\n",
       "       'exang', 'oldpeak', 'slope', 'ca', 'thal'],\n",
       "      dtype='object')"
      ]
     },
     "execution_count": 6,
     "metadata": {},
     "output_type": "execute_result"
    }
   ],
   "source": [
    "x.columns"
   ]
  },
  {
   "cell_type": "code",
   "execution_count": 7,
   "metadata": {},
   "outputs": [
    {
     "data": {
      "text/plain": [
       "0       0\n",
       "1       0\n",
       "2       0\n",
       "3       0\n",
       "4       0\n",
       "       ..\n",
       "1020    1\n",
       "1021    0\n",
       "1022    0\n",
       "1023    1\n",
       "1024    0\n",
       "Name: target, Length: 1025, dtype: int64"
      ]
     },
     "execution_count": 7,
     "metadata": {},
     "output_type": "execute_result"
    }
   ],
   "source": [
    "y"
   ]
  },
  {
   "cell_type": "code",
   "execution_count": 8,
   "metadata": {
    "scrolled": true
   },
   "outputs": [
    {
     "data": {
      "text/plain": [
       "Index(['age', 'sex', 'cp', 'trestbps', 'chol', 'fbs', 'restecg', 'thalach',\n",
       "       'exang', 'oldpeak', 'slope', 'ca', 'thal'],\n",
       "      dtype='object')"
      ]
     },
     "execution_count": 8,
     "metadata": {},
     "output_type": "execute_result"
    }
   ],
   "source": [
    "x.columns"
   ]
  },
  {
   "cell_type": "code",
   "execution_count": 9,
   "metadata": {},
   "outputs": [
    {
     "data": {
      "text/html": [
       "<div>\n",
       "<style scoped>\n",
       "    .dataframe tbody tr th:only-of-type {\n",
       "        vertical-align: middle;\n",
       "    }\n",
       "\n",
       "    .dataframe tbody tr th {\n",
       "        vertical-align: top;\n",
       "    }\n",
       "\n",
       "    .dataframe thead th {\n",
       "        text-align: right;\n",
       "    }\n",
       "</style>\n",
       "<table border=\"1\" class=\"dataframe\">\n",
       "  <thead>\n",
       "    <tr style=\"text-align: right;\">\n",
       "      <th></th>\n",
       "      <th>age</th>\n",
       "      <th>sex</th>\n",
       "      <th>cp</th>\n",
       "      <th>trestbps</th>\n",
       "      <th>chol</th>\n",
       "      <th>fbs</th>\n",
       "      <th>restecg</th>\n",
       "      <th>thalach</th>\n",
       "      <th>exang</th>\n",
       "      <th>oldpeak</th>\n",
       "      <th>slope</th>\n",
       "      <th>ca</th>\n",
       "      <th>thal</th>\n",
       "    </tr>\n",
       "  </thead>\n",
       "  <tbody>\n",
       "    <tr>\n",
       "      <th>0</th>\n",
       "      <td>52</td>\n",
       "      <td>1</td>\n",
       "      <td>0</td>\n",
       "      <td>125</td>\n",
       "      <td>212</td>\n",
       "      <td>0</td>\n",
       "      <td>1</td>\n",
       "      <td>168</td>\n",
       "      <td>0</td>\n",
       "      <td>1.0</td>\n",
       "      <td>2</td>\n",
       "      <td>2</td>\n",
       "      <td>3</td>\n",
       "    </tr>\n",
       "    <tr>\n",
       "      <th>1</th>\n",
       "      <td>53</td>\n",
       "      <td>1</td>\n",
       "      <td>0</td>\n",
       "      <td>140</td>\n",
       "      <td>203</td>\n",
       "      <td>1</td>\n",
       "      <td>0</td>\n",
       "      <td>155</td>\n",
       "      <td>1</td>\n",
       "      <td>3.1</td>\n",
       "      <td>0</td>\n",
       "      <td>0</td>\n",
       "      <td>3</td>\n",
       "    </tr>\n",
       "    <tr>\n",
       "      <th>2</th>\n",
       "      <td>70</td>\n",
       "      <td>1</td>\n",
       "      <td>0</td>\n",
       "      <td>145</td>\n",
       "      <td>174</td>\n",
       "      <td>0</td>\n",
       "      <td>1</td>\n",
       "      <td>125</td>\n",
       "      <td>1</td>\n",
       "      <td>2.6</td>\n",
       "      <td>0</td>\n",
       "      <td>0</td>\n",
       "      <td>3</td>\n",
       "    </tr>\n",
       "    <tr>\n",
       "      <th>3</th>\n",
       "      <td>61</td>\n",
       "      <td>1</td>\n",
       "      <td>0</td>\n",
       "      <td>148</td>\n",
       "      <td>203</td>\n",
       "      <td>0</td>\n",
       "      <td>1</td>\n",
       "      <td>161</td>\n",
       "      <td>0</td>\n",
       "      <td>0.0</td>\n",
       "      <td>2</td>\n",
       "      <td>1</td>\n",
       "      <td>3</td>\n",
       "    </tr>\n",
       "    <tr>\n",
       "      <th>4</th>\n",
       "      <td>62</td>\n",
       "      <td>0</td>\n",
       "      <td>0</td>\n",
       "      <td>138</td>\n",
       "      <td>294</td>\n",
       "      <td>1</td>\n",
       "      <td>1</td>\n",
       "      <td>106</td>\n",
       "      <td>0</td>\n",
       "      <td>1.9</td>\n",
       "      <td>1</td>\n",
       "      <td>3</td>\n",
       "      <td>2</td>\n",
       "    </tr>\n",
       "    <tr>\n",
       "      <th>...</th>\n",
       "      <td>...</td>\n",
       "      <td>...</td>\n",
       "      <td>...</td>\n",
       "      <td>...</td>\n",
       "      <td>...</td>\n",
       "      <td>...</td>\n",
       "      <td>...</td>\n",
       "      <td>...</td>\n",
       "      <td>...</td>\n",
       "      <td>...</td>\n",
       "      <td>...</td>\n",
       "      <td>...</td>\n",
       "      <td>...</td>\n",
       "    </tr>\n",
       "    <tr>\n",
       "      <th>1020</th>\n",
       "      <td>59</td>\n",
       "      <td>1</td>\n",
       "      <td>1</td>\n",
       "      <td>140</td>\n",
       "      <td>221</td>\n",
       "      <td>0</td>\n",
       "      <td>1</td>\n",
       "      <td>164</td>\n",
       "      <td>1</td>\n",
       "      <td>0.0</td>\n",
       "      <td>2</td>\n",
       "      <td>0</td>\n",
       "      <td>2</td>\n",
       "    </tr>\n",
       "    <tr>\n",
       "      <th>1021</th>\n",
       "      <td>60</td>\n",
       "      <td>1</td>\n",
       "      <td>0</td>\n",
       "      <td>125</td>\n",
       "      <td>258</td>\n",
       "      <td>0</td>\n",
       "      <td>0</td>\n",
       "      <td>141</td>\n",
       "      <td>1</td>\n",
       "      <td>2.8</td>\n",
       "      <td>1</td>\n",
       "      <td>1</td>\n",
       "      <td>3</td>\n",
       "    </tr>\n",
       "    <tr>\n",
       "      <th>1022</th>\n",
       "      <td>47</td>\n",
       "      <td>1</td>\n",
       "      <td>0</td>\n",
       "      <td>110</td>\n",
       "      <td>275</td>\n",
       "      <td>0</td>\n",
       "      <td>0</td>\n",
       "      <td>118</td>\n",
       "      <td>1</td>\n",
       "      <td>1.0</td>\n",
       "      <td>1</td>\n",
       "      <td>1</td>\n",
       "      <td>2</td>\n",
       "    </tr>\n",
       "    <tr>\n",
       "      <th>1023</th>\n",
       "      <td>50</td>\n",
       "      <td>0</td>\n",
       "      <td>0</td>\n",
       "      <td>110</td>\n",
       "      <td>254</td>\n",
       "      <td>0</td>\n",
       "      <td>0</td>\n",
       "      <td>159</td>\n",
       "      <td>0</td>\n",
       "      <td>0.0</td>\n",
       "      <td>2</td>\n",
       "      <td>0</td>\n",
       "      <td>2</td>\n",
       "    </tr>\n",
       "    <tr>\n",
       "      <th>1024</th>\n",
       "      <td>54</td>\n",
       "      <td>1</td>\n",
       "      <td>0</td>\n",
       "      <td>120</td>\n",
       "      <td>188</td>\n",
       "      <td>0</td>\n",
       "      <td>1</td>\n",
       "      <td>113</td>\n",
       "      <td>0</td>\n",
       "      <td>1.4</td>\n",
       "      <td>1</td>\n",
       "      <td>1</td>\n",
       "      <td>3</td>\n",
       "    </tr>\n",
       "  </tbody>\n",
       "</table>\n",
       "<p>1025 rows × 13 columns</p>\n",
       "</div>"
      ],
      "text/plain": [
       "      age  sex  cp  trestbps  chol  fbs  restecg  thalach  exang  oldpeak  \\\n",
       "0      52    1   0       125   212    0        1      168      0      1.0   \n",
       "1      53    1   0       140   203    1        0      155      1      3.1   \n",
       "2      70    1   0       145   174    0        1      125      1      2.6   \n",
       "3      61    1   0       148   203    0        1      161      0      0.0   \n",
       "4      62    0   0       138   294    1        1      106      0      1.9   \n",
       "...   ...  ...  ..       ...   ...  ...      ...      ...    ...      ...   \n",
       "1020   59    1   1       140   221    0        1      164      1      0.0   \n",
       "1021   60    1   0       125   258    0        0      141      1      2.8   \n",
       "1022   47    1   0       110   275    0        0      118      1      1.0   \n",
       "1023   50    0   0       110   254    0        0      159      0      0.0   \n",
       "1024   54    1   0       120   188    0        1      113      0      1.4   \n",
       "\n",
       "      slope  ca  thal  \n",
       "0         2   2     3  \n",
       "1         0   0     3  \n",
       "2         0   0     3  \n",
       "3         2   1     3  \n",
       "4         1   3     2  \n",
       "...     ...  ..   ...  \n",
       "1020      2   0     2  \n",
       "1021      1   1     3  \n",
       "1022      1   1     2  \n",
       "1023      2   0     2  \n",
       "1024      1   1     3  \n",
       "\n",
       "[1025 rows x 13 columns]"
      ]
     },
     "execution_count": 9,
     "metadata": {},
     "output_type": "execute_result"
    }
   ],
   "source": [
    "x"
   ]
  },
  {
   "cell_type": "code",
   "execution_count": 10,
   "metadata": {},
   "outputs": [],
   "source": [
    "from sklearn.preprocessing import StandardScaler\n",
    "sc= StandardScaler()\n",
    "x.loc[:,[\"age\",\"trestbps\",\"chol\",\"thalach\",\"oldpeak\",'slope', 'ca', 'thal']]=sc.fit_transform(x.loc[:,[\"age\",\"trestbps\",\"chol\",\"thalach\",\"oldpeak\",'slope', 'ca', 'thal']])"
   ]
  },
  {
   "cell_type": "code",
   "execution_count": 11,
   "metadata": {},
   "outputs": [
    {
     "data": {
      "text/html": [
       "<div>\n",
       "<style scoped>\n",
       "    .dataframe tbody tr th:only-of-type {\n",
       "        vertical-align: middle;\n",
       "    }\n",
       "\n",
       "    .dataframe tbody tr th {\n",
       "        vertical-align: top;\n",
       "    }\n",
       "\n",
       "    .dataframe thead th {\n",
       "        text-align: right;\n",
       "    }\n",
       "</style>\n",
       "<table border=\"1\" class=\"dataframe\">\n",
       "  <thead>\n",
       "    <tr style=\"text-align: right;\">\n",
       "      <th></th>\n",
       "      <th>age</th>\n",
       "      <th>sex</th>\n",
       "      <th>cp</th>\n",
       "      <th>trestbps</th>\n",
       "      <th>chol</th>\n",
       "      <th>fbs</th>\n",
       "      <th>restecg</th>\n",
       "      <th>thalach</th>\n",
       "      <th>exang</th>\n",
       "      <th>oldpeak</th>\n",
       "      <th>slope</th>\n",
       "      <th>ca</th>\n",
       "      <th>thal</th>\n",
       "    </tr>\n",
       "  </thead>\n",
       "  <tbody>\n",
       "    <tr>\n",
       "      <th>0</th>\n",
       "      <td>-0.268437</td>\n",
       "      <td>1</td>\n",
       "      <td>0</td>\n",
       "      <td>-0.377636</td>\n",
       "      <td>-0.659332</td>\n",
       "      <td>0</td>\n",
       "      <td>1</td>\n",
       "      <td>0.821321</td>\n",
       "      <td>0</td>\n",
       "      <td>-0.060888</td>\n",
       "      <td>0.995433</td>\n",
       "      <td>1.209221</td>\n",
       "      <td>1.089852</td>\n",
       "    </tr>\n",
       "    <tr>\n",
       "      <th>1</th>\n",
       "      <td>-0.158157</td>\n",
       "      <td>1</td>\n",
       "      <td>0</td>\n",
       "      <td>0.479107</td>\n",
       "      <td>-0.833861</td>\n",
       "      <td>1</td>\n",
       "      <td>0</td>\n",
       "      <td>0.255968</td>\n",
       "      <td>1</td>\n",
       "      <td>1.727137</td>\n",
       "      <td>-2.243675</td>\n",
       "      <td>-0.731971</td>\n",
       "      <td>1.089852</td>\n",
       "    </tr>\n",
       "    <tr>\n",
       "      <th>2</th>\n",
       "      <td>1.716595</td>\n",
       "      <td>1</td>\n",
       "      <td>0</td>\n",
       "      <td>0.764688</td>\n",
       "      <td>-1.396233</td>\n",
       "      <td>0</td>\n",
       "      <td>1</td>\n",
       "      <td>-1.048692</td>\n",
       "      <td>1</td>\n",
       "      <td>1.301417</td>\n",
       "      <td>-2.243675</td>\n",
       "      <td>-0.731971</td>\n",
       "      <td>1.089852</td>\n",
       "    </tr>\n",
       "    <tr>\n",
       "      <th>3</th>\n",
       "      <td>0.724079</td>\n",
       "      <td>1</td>\n",
       "      <td>0</td>\n",
       "      <td>0.936037</td>\n",
       "      <td>-0.833861</td>\n",
       "      <td>0</td>\n",
       "      <td>1</td>\n",
       "      <td>0.516900</td>\n",
       "      <td>0</td>\n",
       "      <td>-0.912329</td>\n",
       "      <td>0.995433</td>\n",
       "      <td>0.238625</td>\n",
       "      <td>1.089852</td>\n",
       "    </tr>\n",
       "    <tr>\n",
       "      <th>4</th>\n",
       "      <td>0.834359</td>\n",
       "      <td>0</td>\n",
       "      <td>0</td>\n",
       "      <td>0.364875</td>\n",
       "      <td>0.930822</td>\n",
       "      <td>1</td>\n",
       "      <td>1</td>\n",
       "      <td>-1.874977</td>\n",
       "      <td>0</td>\n",
       "      <td>0.705408</td>\n",
       "      <td>-0.624121</td>\n",
       "      <td>2.179817</td>\n",
       "      <td>-0.522122</td>\n",
       "    </tr>\n",
       "    <tr>\n",
       "      <th>...</th>\n",
       "      <td>...</td>\n",
       "      <td>...</td>\n",
       "      <td>...</td>\n",
       "      <td>...</td>\n",
       "      <td>...</td>\n",
       "      <td>...</td>\n",
       "      <td>...</td>\n",
       "      <td>...</td>\n",
       "      <td>...</td>\n",
       "      <td>...</td>\n",
       "      <td>...</td>\n",
       "      <td>...</td>\n",
       "      <td>...</td>\n",
       "    </tr>\n",
       "    <tr>\n",
       "      <th>1020</th>\n",
       "      <td>0.503520</td>\n",
       "      <td>1</td>\n",
       "      <td>1</td>\n",
       "      <td>0.479107</td>\n",
       "      <td>-0.484803</td>\n",
       "      <td>0</td>\n",
       "      <td>1</td>\n",
       "      <td>0.647366</td>\n",
       "      <td>1</td>\n",
       "      <td>-0.912329</td>\n",
       "      <td>0.995433</td>\n",
       "      <td>-0.731971</td>\n",
       "      <td>-0.522122</td>\n",
       "    </tr>\n",
       "    <tr>\n",
       "      <th>1021</th>\n",
       "      <td>0.613800</td>\n",
       "      <td>1</td>\n",
       "      <td>0</td>\n",
       "      <td>-0.377636</td>\n",
       "      <td>0.232705</td>\n",
       "      <td>0</td>\n",
       "      <td>0</td>\n",
       "      <td>-0.352873</td>\n",
       "      <td>1</td>\n",
       "      <td>1.471705</td>\n",
       "      <td>-0.624121</td>\n",
       "      <td>0.238625</td>\n",
       "      <td>1.089852</td>\n",
       "    </tr>\n",
       "    <tr>\n",
       "      <th>1022</th>\n",
       "      <td>-0.819834</td>\n",
       "      <td>1</td>\n",
       "      <td>0</td>\n",
       "      <td>-1.234378</td>\n",
       "      <td>0.562371</td>\n",
       "      <td>0</td>\n",
       "      <td>0</td>\n",
       "      <td>-1.353113</td>\n",
       "      <td>1</td>\n",
       "      <td>-0.060888</td>\n",
       "      <td>-0.624121</td>\n",
       "      <td>0.238625</td>\n",
       "      <td>-0.522122</td>\n",
       "    </tr>\n",
       "    <tr>\n",
       "      <th>1023</th>\n",
       "      <td>-0.488996</td>\n",
       "      <td>0</td>\n",
       "      <td>0</td>\n",
       "      <td>-1.234378</td>\n",
       "      <td>0.155137</td>\n",
       "      <td>0</td>\n",
       "      <td>0</td>\n",
       "      <td>0.429923</td>\n",
       "      <td>0</td>\n",
       "      <td>-0.912329</td>\n",
       "      <td>0.995433</td>\n",
       "      <td>-0.731971</td>\n",
       "      <td>-0.522122</td>\n",
       "    </tr>\n",
       "    <tr>\n",
       "      <th>1024</th>\n",
       "      <td>-0.047877</td>\n",
       "      <td>1</td>\n",
       "      <td>0</td>\n",
       "      <td>-0.663216</td>\n",
       "      <td>-1.124743</td>\n",
       "      <td>0</td>\n",
       "      <td>1</td>\n",
       "      <td>-1.570556</td>\n",
       "      <td>0</td>\n",
       "      <td>0.279688</td>\n",
       "      <td>-0.624121</td>\n",
       "      <td>0.238625</td>\n",
       "      <td>1.089852</td>\n",
       "    </tr>\n",
       "  </tbody>\n",
       "</table>\n",
       "<p>1025 rows × 13 columns</p>\n",
       "</div>"
      ],
      "text/plain": [
       "           age  sex  cp  trestbps      chol  fbs  restecg   thalach  exang  \\\n",
       "0    -0.268437    1   0 -0.377636 -0.659332    0        1  0.821321      0   \n",
       "1    -0.158157    1   0  0.479107 -0.833861    1        0  0.255968      1   \n",
       "2     1.716595    1   0  0.764688 -1.396233    0        1 -1.048692      1   \n",
       "3     0.724079    1   0  0.936037 -0.833861    0        1  0.516900      0   \n",
       "4     0.834359    0   0  0.364875  0.930822    1        1 -1.874977      0   \n",
       "...        ...  ...  ..       ...       ...  ...      ...       ...    ...   \n",
       "1020  0.503520    1   1  0.479107 -0.484803    0        1  0.647366      1   \n",
       "1021  0.613800    1   0 -0.377636  0.232705    0        0 -0.352873      1   \n",
       "1022 -0.819834    1   0 -1.234378  0.562371    0        0 -1.353113      1   \n",
       "1023 -0.488996    0   0 -1.234378  0.155137    0        0  0.429923      0   \n",
       "1024 -0.047877    1   0 -0.663216 -1.124743    0        1 -1.570556      0   \n",
       "\n",
       "       oldpeak     slope        ca      thal  \n",
       "0    -0.060888  0.995433  1.209221  1.089852  \n",
       "1     1.727137 -2.243675 -0.731971  1.089852  \n",
       "2     1.301417 -2.243675 -0.731971  1.089852  \n",
       "3    -0.912329  0.995433  0.238625  1.089852  \n",
       "4     0.705408 -0.624121  2.179817 -0.522122  \n",
       "...        ...       ...       ...       ...  \n",
       "1020 -0.912329  0.995433 -0.731971 -0.522122  \n",
       "1021  1.471705 -0.624121  0.238625  1.089852  \n",
       "1022 -0.060888 -0.624121  0.238625 -0.522122  \n",
       "1023 -0.912329  0.995433 -0.731971 -0.522122  \n",
       "1024  0.279688 -0.624121  0.238625  1.089852  \n",
       "\n",
       "[1025 rows x 13 columns]"
      ]
     },
     "execution_count": 11,
     "metadata": {},
     "output_type": "execute_result"
    }
   ],
   "source": [
    "x"
   ]
  },
  {
   "cell_type": "markdown",
   "metadata": {},
   "source": [
    "###   WITH Principle component analyss"
   ]
  },
  {
   "cell_type": "code",
   "execution_count": null,
   "metadata": {},
   "outputs": [],
   "source": []
  },
  {
   "cell_type": "code",
   "execution_count": 12,
   "metadata": {},
   "outputs": [],
   "source": [
    "from sklearn.decomposition import PCA"
   ]
  },
  {
   "cell_type": "code",
   "execution_count": 13,
   "metadata": {},
   "outputs": [],
   "source": [
    "pca=PCA(0.95)#give me 95% variation"
   ]
  },
  {
   "cell_type": "code",
   "execution_count": 14,
   "metadata": {},
   "outputs": [
    {
     "data": {
      "text/plain": [
       "PCA(n_components=0.95)"
      ]
     },
     "execution_count": 14,
     "metadata": {},
     "output_type": "execute_result"
    }
   ],
   "source": [
    "pca.fit(x)"
   ]
  },
  {
   "cell_type": "code",
   "execution_count": 15,
   "metadata": {},
   "outputs": [],
   "source": [
    "x_pca=pca.transform(x)"
   ]
  },
  {
   "cell_type": "code",
   "execution_count": 16,
   "metadata": {},
   "outputs": [
    {
     "data": {
      "text/plain": [
       "(1025, 13)"
      ]
     },
     "execution_count": 16,
     "metadata": {},
     "output_type": "execute_result"
    }
   ],
   "source": [
    "x.shape"
   ]
  },
  {
   "cell_type": "code",
   "execution_count": 17,
   "metadata": {
    "scrolled": false
   },
   "outputs": [
    {
     "data": {
      "text/plain": [
       "(1025, 10)"
      ]
     },
     "execution_count": 17,
     "metadata": {},
     "output_type": "execute_result"
    }
   ],
   "source": [
    "x_pca.shape"
   ]
  },
  {
   "cell_type": "code",
   "execution_count": 18,
   "metadata": {},
   "outputs": [
    {
     "data": {
      "text/plain": [
       "(1025,)"
      ]
     },
     "execution_count": 18,
     "metadata": {},
     "output_type": "execute_result"
    }
   ],
   "source": [
    "y.shape"
   ]
  },
  {
   "cell_type": "code",
   "execution_count": null,
   "metadata": {},
   "outputs": [],
   "source": []
  },
  {
   "cell_type": "code",
   "execution_count": 19,
   "metadata": {},
   "outputs": [
    {
     "data": {
      "text/plain": [
       "array([0.25531137, 0.12917273, 0.11612389, 0.0993075 , 0.09220522,\n",
       "       0.07740977, 0.07341542, 0.04520516, 0.03989343, 0.02726914])"
      ]
     },
     "execution_count": 19,
     "metadata": {},
     "output_type": "execute_result"
    }
   ],
   "source": [
    "pca.explained_variance_ratio_#Gives how much information it takes\n"
   ]
  },
  {
   "cell_type": "code",
   "execution_count": 20,
   "metadata": {
    "scrolled": true
   },
   "outputs": [
    {
     "data": {
      "image/png": "[encoded data removed]",
      "text/plain": [
       "<Figure size 432x288 with 1 Axes>"
      ]
     },
     "metadata": {
      "needs_background": "light"
     },
     "output_type": "display_data"
    }
   ],
   "source": [
    "per_var = np.round(pca.explained_variance_ratio_* 100, decimals=1)\n",
    "labels = ['PC' + str(x) for x in range(1, len(per_var)+1)]\n",
    " \n",
    "plt.bar(x=range(1,len(per_var)+1), height=per_var, tick_label=labels)\n",
    "plt.ylabel('Percentage of Explained Variance')\n",
    "plt.xlabel('Principal Component')\n",
    "plt.title('Scree Plot')\n",
    "plt.show()"
   ]
  },
  {
   "cell_type": "markdown",
   "metadata": {},
   "source": [
    "### Now splitting the dataset according to this PCA "
   ]
  },
  {
   "cell_type": "code",
   "execution_count": 21,
   "metadata": {},
   "outputs": [],
   "source": [
    "from sklearn.model_selection import train_test_split\n",
    "x_train,x_test,y_train,y_test=train_test_split(x_pca,y,test_size=0.2,random_state=30)"
   ]
  },
  {
   "cell_type": "code",
   "execution_count": 22,
   "metadata": {
    "scrolled": true
   },
   "outputs": [
    {
     "data": {
      "text/plain": [
       "(820, 10)"
      ]
     },
     "execution_count": 22,
     "metadata": {},
     "output_type": "execute_result"
    }
   ],
   "source": [
    "x_train.shape"
   ]
  },
  {
   "cell_type": "markdown",
   "metadata": {},
   "source": [
    "### TRAINING THE LOGISTIC REGRESSION MODEL ON THE TRAINING SET"
   ]
  },
  {
   "cell_type": "code",
   "execution_count": 23,
   "metadata": {},
   "outputs": [
    {
     "data": {
      "text/plain": [
       "LogisticRegression(random_state=0)"
      ]
     },
     "execution_count": 23,
     "metadata": {},
     "output_type": "execute_result"
    }
   ],
   "source": [
    "from sklearn.linear_model import LogisticRegression\n",
    "classifier= LogisticRegression(random_state=0)\n",
    "classifier.fit(x_train,y_train)"
   ]
  },
  {
   "cell_type": "markdown",
   "metadata": {},
   "source": [
    "### PREDICITNG THE TEST SET"
   ]
  },
  {
   "cell_type": "code",
   "execution_count": 25,
   "metadata": {},
   "outputs": [
    {
     "data": {
      "text/plain": [
       "0.8585365853658536"
      ]
     },
     "execution_count": 25,
     "metadata": {},
     "output_type": "execute_result"
    }
   ],
   "source": [
    "y_test_pred_lg=classifier.predict(x_train)\n",
    "from sklearn.metrics import confusion_matrix, accuracy_score\n",
    "\n",
    "accuracy_score(y_train,y_test_pred_lg)"
   ]
  },
  {
   "cell_type": "code",
   "execution_count": 26,
   "metadata": {},
   "outputs": [],
   "source": [
    "y_pred_= classifier.predict(x_test)"
   ]
  },
  {
   "cell_type": "code",
   "execution_count": 28,
   "metadata": {},
   "outputs": [
    {
     "data": {
      "text/plain": [
       "array([[80, 23],\n",
       "       [ 5, 97]], dtype=int64)"
      ]
     },
     "execution_count": 28,
     "metadata": {},
     "output_type": "execute_result"
    }
   ],
   "source": [
    "from sklearn.metrics import confusion_matrix, accuracy_score,classification_report\n",
    "confusion_matrix(y_test,y_pred_)\n"
   ]
  },
  {
   "cell_type": "code",
   "execution_count": 29,
   "metadata": {
    "scrolled": true
   },
   "outputs": [
    {
     "name": "stdout",
     "output_type": "stream",
     "text": [
      "              precision    recall  f1-score   support\n",
      "\n",
      "           0       0.94      0.78      0.85       103\n",
      "           1       0.81      0.95      0.87       102\n",
      "\n",
      "    accuracy                           0.86       205\n",
      "   macro avg       0.87      0.86      0.86       205\n",
      "weighted avg       0.88      0.86      0.86       205\n",
      "\n"
     ]
    }
   ],
   "source": [
    "print(classification_report(y_test,y_pred_))"
   ]
  },
  {
   "cell_type": "code",
   "execution_count": 30,
   "metadata": {},
   "outputs": [
    {
     "data": {
      "text/plain": [
       "0.8634146341463415"
      ]
     },
     "execution_count": 30,
     "metadata": {},
     "output_type": "execute_result"
    }
   ],
   "source": [
    "accuracy_score(y_test,y_pred_)"
   ]
  },
  {
   "cell_type": "code",
   "execution_count": 24,
   "metadata": {
    "scrolled": true
   },
   "outputs": [],
   "source": [
    "y_pred= classifier.predict(x_test)"
   ]
  },
  {
   "cell_type": "code",
   "execution_count": 36,
   "metadata": {},
   "outputs": [
    {
     "data": {
      "text/plain": [
       "(205,)"
      ]
     },
     "execution_count": 36,
     "metadata": {},
     "output_type": "execute_result"
    }
   ],
   "source": [
    "y_pred.shape"
   ]
  },
  {
   "cell_type": "markdown",
   "metadata": {},
   "source": [
    "### MAKING THE CONFUSION MATRIX AND ACCURACY SCORE"
   ]
  },
  {
   "cell_type": "code",
   "execution_count": 111,
   "metadata": {},
   "outputs": [
    {
     "data": {
      "text/plain": [
       "array([[80, 23],\n",
       "       [ 5, 97]], dtype=int64)"
      ]
     },
     "execution_count": 111,
     "metadata": {},
     "output_type": "execute_result"
    }
   ],
   "source": [
    "from sklearn.metrics import confusion_matrix, accuracy_score,classification_report\n",
    "confusion_matrix(y_test,y_pred)\n"
   ]
  },
  {
   "cell_type": "code",
   "execution_count": 113,
   "metadata": {},
   "outputs": [
    {
     "name": "stdout",
     "output_type": "stream",
     "text": [
      "              precision    recall  f1-score   support\n",
      "\n",
      "           0       0.94      0.78      0.85       103\n",
      "           1       0.81      0.95      0.87       102\n",
      "\n",
      "    accuracy                           0.86       205\n",
      "   macro avg       0.87      0.86      0.86       205\n",
      "weighted avg       0.88      0.86      0.86       205\n",
      "\n"
     ]
    }
   ],
   "source": [
    "print(classification_report(y_test,y_pred))"
   ]
  },
  {
   "cell_type": "markdown",
   "metadata": {},
   "source": [
    "###  ACCURACY OF THE MODEL"
   ]
  },
  {
   "cell_type": "code",
   "execution_count": 39,
   "metadata": {
    "scrolled": true
   },
   "outputs": [
    {
     "data": {
      "text/plain": [
       "0.8634146341463415"
      ]
     },
     "execution_count": 39,
     "metadata": {},
     "output_type": "execute_result"
    }
   ],
   "source": [
    "accuracy_score(y_test,y_pred)"
   ]
  },
  {
   "cell_type": "code",
   "execution_count": 32,
   "metadata": {},
   "outputs": [
    {
     "name": "stdout",
     "output_type": "stream",
     "text": [
      "Accuracy: 70.25 %\n",
      "Standard Deviation: 1.90 %\n"
     ]
    }
   ],
   "source": [
    "from sklearn.model_selection import cross_val_score\n",
    "accuracies = cross_val_score(estimator = classifier, X = x_train, y = y_train, cv = 3)\n",
    "print(\"Accuracy: {:.2f} %\".format(accuracies.mean()*100))\n",
    "print(\"Standard Deviation: {:.2f} %\".format(accuracies.std()*100))"
   ]
  },
  {
   "cell_type": "markdown",
   "metadata": {},
   "source": [
    "##### BUILD LOGISTIC REGRESSION WITH HYPERPARAMETEE"
   ]
  },
  {
   "cell_type": "code",
   "execution_count": 24,
   "metadata": {},
   "outputs": [],
   "source": [
    "logModel=LogisticRegression()"
   ]
  },
  {
   "cell_type": "code",
   "execution_count": 25,
   "metadata": {},
   "outputs": [],
   "source": [
    "param_grid=[\n",
    "    {'penalty': [\"l1\", \"l2\", \"elasticnet\", \"none\"],\n",
    "     \"C\": np.logspace(-4,4,20),\n",
    "     \"solver\": [\"lbfgs\",\"newton-cg\",\"liblinear\",\"sag\",\"saga\"],\n",
    "     \"max_iter\": [100,1000,2500,5000]\n",
    "        \n",
    "    }\n",
    "]"
   ]
  },
  {
   "cell_type": "markdown",
   "metadata": {},
   "source": [
    "### IMPORT Grid search"
   ]
  },
  {
   "cell_type": "code",
   "execution_count": 590,
   "metadata": {},
   "outputs": [],
   "source": [
    "from sklearn.model_selection import GridSearchCV"
   ]
  },
  {
   "cell_type": "code",
   "execution_count": 591,
   "metadata": {},
   "outputs": [],
   "source": [
    "clf=GridSearchCV(logModel,param_grid=param_grid,cv=3,verbose=True,n_jobs=-1)"
   ]
  },
  {
   "cell_type": "code",
   "execution_count": 592,
   "metadata": {},
   "outputs": [
    {
     "name": "stdout",
     "output_type": "stream",
     "text": [
      "Fitting 3 folds for each of 1600 candidates, totalling 4800 fits\n"
     ]
    },
    {
     "name": "stderr",
     "output_type": "stream",
     "text": [
      "[Parallel(n_jobs=-1)]: Using backend LokyBackend with 8 concurrent workers.\n",
      "[Parallel(n_jobs=-1)]: Done  34 tasks      | elapsed:    2.9s\n",
      "[Parallel(n_jobs=-1)]: Done 4120 tasks      | elapsed:    8.0s\n",
      "[Parallel(n_jobs=-1)]: Done 4800 out of 4800 | elapsed:    9.2s finished\n",
      "C:\\Users\\shiwam\\anaconda3\\lib\\site-packages\\sklearn\\linear_model\\_logistic.py:1320: UserWarning: Setting penalty='none' will ignore the C and l1_ratio parameters\n",
      "  warnings.warn(\n"
     ]
    }
   ],
   "source": [
    "best_clf=clf.fit(x_train,y_train)"
   ]
  },
  {
   "cell_type": "code",
   "execution_count": 593,
   "metadata": {},
   "outputs": [
    {
     "data": {
      "text/plain": [
       "LogisticRegression(C=0.0001, penalty='none')"
      ]
     },
     "execution_count": 593,
     "metadata": {},
     "output_type": "execute_result"
    }
   ],
   "source": [
    "best_clf.best_estimator_"
   ]
  },
  {
   "cell_type": "code",
   "execution_count": 594,
   "metadata": {},
   "outputs": [
    {
     "data": {
      "text/plain": [
       "1.0"
      ]
     },
     "execution_count": 594,
     "metadata": {},
     "output_type": "execute_result"
    }
   ],
   "source": [
    "best_clf.score(x_train,y_train)"
   ]
  },
  {
   "cell_type": "markdown",
   "metadata": {},
   "source": [
    "### CLASSIFICATION REPORT"
   ]
  },
  {
   "cell_type": "code",
   "execution_count": null,
   "metadata": {},
   "outputs": [],
   "source": []
  },
  {
   "cell_type": "markdown",
   "metadata": {},
   "source": [
    "### KERNEL-SVM"
   ]
  },
  {
   "cell_type": "code",
   "execution_count": 67,
   "metadata": {},
   "outputs": [
    {
     "data": {
      "text/plain": [
       "SVC(random_state=0)"
      ]
     },
     "execution_count": 67,
     "metadata": {},
     "output_type": "execute_result"
    }
   ],
   "source": [
    "from sklearn.svm import SVC\n",
    "classifier1= SVC(kernel=\"rbf\",random_state=0)\n",
    "classifier1.fit(x_train,y_train)"
   ]
  },
  {
   "cell_type": "markdown",
   "metadata": {},
   "source": [
    "## ### PREDICTING THE TEST SET"
   ]
  },
  {
   "cell_type": "code",
   "execution_count": 68,
   "metadata": {},
   "outputs": [
    {
     "name": "stdout",
     "output_type": "stream",
     "text": [
      "[[358  38]\n",
      " [ 13 411]]\n",
      "              precision    recall  f1-score   support\n",
      "\n",
      "           0       0.96      0.90      0.93       396\n",
      "           1       0.92      0.97      0.94       424\n",
      "\n",
      "    accuracy                           0.94       820\n",
      "   macro avg       0.94      0.94      0.94       820\n",
      "weighted avg       0.94      0.94      0.94       820\n",
      "\n"
     ]
    },
    {
     "data": {
      "text/plain": [
       "0.9378048780487804"
      ]
     },
     "execution_count": 68,
     "metadata": {},
     "output_type": "execute_result"
    }
   ],
   "source": [
    "y_test_pred_svm=classifier1.predict(x_train)\n",
    "from sklearn.metrics import confusion_matrix, accuracy_score\n",
    "print(confusion_matrix(y_train,y_test_pred_svm))\n",
    "\n",
    "from sklearn.metrics import classification_report\n",
    "print(classification_report(y_train,y_test_pred_svm))\n",
    "\n",
    "accuracy_score(y_train,y_test_pred_svm)"
   ]
  },
  {
   "cell_type": "code",
   "execution_count": 41,
   "metadata": {},
   "outputs": [],
   "source": [
    "y_pred_SVM= classifier1.predict(x_test)\n"
   ]
  },
  {
   "cell_type": "code",
   "execution_count": 42,
   "metadata": {
    "scrolled": false
   },
   "outputs": [
    {
     "name": "stdout",
     "output_type": "stream",
     "text": [
      "[[89 14]\n",
      " [ 5 97]]\n",
      "              precision    recall  f1-score   support\n",
      "\n",
      "           0       0.95      0.86      0.90       103\n",
      "           1       0.87      0.95      0.91       102\n",
      "\n",
      "    accuracy                           0.91       205\n",
      "   macro avg       0.91      0.91      0.91       205\n",
      "weighted avg       0.91      0.91      0.91       205\n",
      "\n"
     ]
    },
    {
     "data": {
      "text/plain": [
       "0.9073170731707317"
      ]
     },
     "execution_count": 42,
     "metadata": {},
     "output_type": "execute_result"
    }
   ],
   "source": [
    "from sklearn.metrics import confusion_matrix, accuracy_score\n",
    "print(confusion_matrix(y_test,y_pred_SVM))\n",
    "\n",
    "from sklearn.metrics import classification_report\n",
    "print(classification_report(y_test,y_pred_SVM))\n",
    "\n",
    "accuracy_score(y_test,y_pred_SVM)"
   ]
  },
  {
   "cell_type": "code",
   "execution_count": 37,
   "metadata": {},
   "outputs": [
    {
     "name": "stdout",
     "output_type": "stream",
     "text": [
      "Accuracy: 69.76 %\n",
      "Standard Deviation: 1.35 %\n"
     ]
    }
   ],
   "source": [
    "from sklearn.model_selection import cross_val_score\n",
    "accuracies = cross_val_score(estimator = classifier1, X = x_train, y = y_train, cv = 3)\n",
    "print(\"Accuracy: {:.2f} %\".format(accuracies.mean()*100))\n",
    "print(\"Standard Deviation: {:.2f} %\".format(accuracies.std()*100))"
   ]
  },
  {
   "cell_type": "markdown",
   "metadata": {},
   "source": [
    "### Random forest"
   ]
  },
  {
   "cell_type": "code",
   "execution_count": 72,
   "metadata": {},
   "outputs": [
    {
     "data": {
      "text/plain": [
       "RandomForestClassifier(criterion='entropy', random_state=0)"
      ]
     },
     "execution_count": 72,
     "metadata": {},
     "output_type": "execute_result"
    }
   ],
   "source": [
    "from sklearn.ensemble import RandomForestClassifier\n",
    "classifier2= RandomForestClassifier(criterion=\"entropy\",random_state=0)\n",
    "classifier2.fit(x_train,y_train)"
   ]
  },
  {
   "cell_type": "code",
   "execution_count": 74,
   "metadata": {},
   "outputs": [
    {
     "name": "stdout",
     "output_type": "stream",
     "text": [
      "[[396   0]\n",
      " [  0 424]]\n",
      "              precision    recall  f1-score   support\n",
      "\n",
      "           0       1.00      1.00      1.00       396\n",
      "           1       1.00      1.00      1.00       424\n",
      "\n",
      "    accuracy                           1.00       820\n",
      "   macro avg       1.00      1.00      1.00       820\n",
      "weighted avg       1.00      1.00      1.00       820\n",
      "\n"
     ]
    },
    {
     "data": {
      "text/plain": [
       "1.0"
      ]
     },
     "execution_count": 74,
     "metadata": {},
     "output_type": "execute_result"
    }
   ],
   "source": [
    "y_test_pred_rf=classifier2.predict(x_train)\n",
    "from sklearn.metrics import confusion_matrix, accuracy_score\n",
    "print(confusion_matrix(y_train,y_test_pred_rf))\n",
    "\n",
    "from sklearn.metrics import classification_report\n",
    "print(classification_report(y_train,y_test_pred_rf))\n",
    "\n",
    "accuracy_score(y_train,y_test_pred_rf)"
   ]
  },
  {
   "cell_type": "code",
   "execution_count": 70,
   "metadata": {},
   "outputs": [],
   "source": [
    "y_train_pred_rf= classifier2.predict(x_train)"
   ]
  },
  {
   "cell_type": "code",
   "execution_count": 71,
   "metadata": {},
   "outputs": [
    {
     "data": {
      "text/plain": [
       "1.0"
      ]
     },
     "execution_count": 71,
     "metadata": {},
     "output_type": "execute_result"
    }
   ],
   "source": [
    "from sklearn.metrics import confusion_matrix, accuracy_score\n",
    "\n",
    "accuracy_score(y_train,y_train_pred_rf)"
   ]
  },
  {
   "cell_type": "code",
   "execution_count": 58,
   "metadata": {},
   "outputs": [],
   "source": [
    "y_pred_rf= classifier2.predict(x_test)"
   ]
  },
  {
   "cell_type": "code",
   "execution_count": null,
   "metadata": {},
   "outputs": [],
   "source": []
  },
  {
   "cell_type": "code",
   "execution_count": 59,
   "metadata": {
    "scrolled": true
   },
   "outputs": [
    {
     "name": "stdout",
     "output_type": "stream",
     "text": [
      "[[103   0]\n",
      " [  2 100]]\n",
      "              precision    recall  f1-score   support\n",
      "\n",
      "           0       0.98      1.00      0.99       103\n",
      "           1       1.00      0.98      0.99       102\n",
      "\n",
      "    accuracy                           0.99       205\n",
      "   macro avg       0.99      0.99      0.99       205\n",
      "weighted avg       0.99      0.99      0.99       205\n",
      "\n"
     ]
    },
    {
     "data": {
      "text/plain": [
       "0.9902439024390244"
      ]
     },
     "execution_count": 59,
     "metadata": {},
     "output_type": "execute_result"
    }
   ],
   "source": [
    "from sklearn.metrics import confusion_matrix, accuracy_score\n",
    "print(confusion_matrix(y_test,y_pred_rf))\n",
    "\n",
    "from sklearn.metrics import classification_report\n",
    "print(classification_report(y_test,y_pred_rf))\n",
    "\n",
    "accuracy_score(y_test,y_pred_rf)"
   ]
  },
  {
   "cell_type": "code",
   "execution_count": 105,
   "metadata": {},
   "outputs": [
    {
     "name": "stdout",
     "output_type": "stream",
     "text": [
      "Accuracy: 97.32 %\n",
      "Standard Deviation: 1.50 %\n"
     ]
    }
   ],
   "source": [
    "from sklearn.model_selection import cross_val_score\n",
    "accuracies = cross_val_score(estimator = classifier2, X = x_train, y = y_train, cv = 3)\n",
    "print(\"Accuracy: {:.2f} %\".format(accuracies.mean()*100))\n",
    "print(\"Standard Deviation: {:.2f} %\".format(accuracies.std()*100))"
   ]
  },
  {
   "cell_type": "code",
   "execution_count": 61,
   "metadata": {},
   "outputs": [
    {
     "name": "stdout",
     "output_type": "stream",
     "text": [
      "{'n_estimators': [10, 86, 163, 240, 316, 393, 470, 546, 623, 700], 'max_features': ['auto', 'sqrt', 'log2'], 'max_depth': [10, 120, 230, 340, 450, 560, 670, 780, 890, 1000], 'min_samples_split': [1, 3, 4, 5, 7, 9], 'min_samples_leaf': [1, 2, 4, 6, 8], 'criterion': ['entropy', 'gini']}\n"
     ]
    }
   ],
   "source": [
    "import numpy as np\n",
    "from sklearn.model_selection import RandomizedSearchCV\n",
    "# Number of trees in random forest\n",
    "n_estimators = [int(x) for x in np.linspace(start = 10, stop = 700, num = 10)]\n",
    "# Number of features to consider at every split\n",
    "max_features = ['auto', 'sqrt','log2']\n",
    "# Maximum number of levels in tree\n",
    "max_depth = [int(x) for x in np.linspace(10, 1000,10)]\n",
    "# Minimum number of samples required to split a node\n",
    "min_samples_split = [1,3,4,5,7,9]\n",
    "# Minimum number of samples required at each leaf node\n",
    "min_samples_leaf = [1, 2, 4,6,8]\n",
    "# Create the random grid|\n",
    "random_grid = {'n_estimators': n_estimators,\n",
    "               'max_features': max_features,\n",
    "               'max_depth': max_depth,\n",
    "               'min_samples_split': min_samples_split,\n",
    "               'min_samples_leaf': min_samples_leaf,\n",
    "              'criterion':['entropy','gini']}\n",
    "print(random_grid)"
   ]
  },
  {
   "cell_type": "code",
   "execution_count": 62,
   "metadata": {},
   "outputs": [
    {
     "name": "stdout",
     "output_type": "stream",
     "text": [
      "Fitting 10 folds for each of 100 candidates, totalling 1000 fits\n"
     ]
    },
    {
     "name": "stderr",
     "output_type": "stream",
     "text": [
      "[Parallel(n_jobs=-1)]: Using backend LokyBackend with 8 concurrent workers.\n",
      "[Parallel(n_jobs=-1)]: Done  25 tasks      | elapsed:   33.9s\n",
      "[Parallel(n_jobs=-1)]: Done 146 tasks      | elapsed:  1.5min\n",
      "[Parallel(n_jobs=-1)]: Done 349 tasks      | elapsed:  3.2min\n",
      "[Parallel(n_jobs=-1)]: Done 632 tasks      | elapsed:  5.6min\n",
      "[Parallel(n_jobs=-1)]: Done 1000 out of 1000 | elapsed:  9.2min finished\n"
     ]
    },
    {
     "data": {
      "text/plain": [
       "RandomizedSearchCV(cv=10, estimator=RandomForestClassifier(), n_iter=100,\n",
       "                   n_jobs=-1,\n",
       "                   param_distributions={'criterion': ['entropy', 'gini'],\n",
       "                                        'max_depth': [10, 120, 230, 340, 450,\n",
       "                                                      560, 670, 780, 890,\n",
       "                                                      1000],\n",
       "                                        'max_features': ['auto', 'sqrt',\n",
       "                                                         'log2'],\n",
       "                                        'min_samples_leaf': [1, 2, 4, 6, 8],\n",
       "                                        'min_samples_split': [1, 3, 4, 5, 7, 9],\n",
       "                                        'n_estimators': [10, 86, 163, 240, 316,\n",
       "                                                         393, 470, 546, 623,\n",
       "                                                         700]},\n",
       "                   random_state=100, verbose=2)"
      ]
     },
     "execution_count": 62,
     "metadata": {},
     "output_type": "execute_result"
    }
   ],
   "source": [
    "rf=RandomForestClassifier()\n",
    "rf_randomcv=RandomizedSearchCV(estimator=rf,param_distributions=random_grid,n_iter=100,cv=10,verbose=2,\n",
    "                               random_state=100,n_jobs=-1)\n",
    "### fit the randomized model\n",
    "rf_randomcv.fit(x_train,y_train)"
   ]
  },
  {
   "cell_type": "code",
   "execution_count": 63,
   "metadata": {
    "scrolled": true
   },
   "outputs": [
    {
     "data": {
      "text/plain": [
       "{'n_estimators': 623,\n",
       " 'min_samples_split': 3,\n",
       " 'min_samples_leaf': 1,\n",
       " 'max_features': 'sqrt',\n",
       " 'max_depth': 1000,\n",
       " 'criterion': 'entropy'}"
      ]
     },
     "execution_count": 63,
     "metadata": {},
     "output_type": "execute_result"
    }
   ],
   "source": [
    "rf_randomcv.best_params_"
   ]
  },
  {
   "cell_type": "code",
   "execution_count": 64,
   "metadata": {},
   "outputs": [
    {
     "data": {
      "text/plain": [
       "RandomizedSearchCV(cv=10, estimator=RandomForestClassifier(), n_iter=100,\n",
       "                   n_jobs=-1,\n",
       "                   param_distributions={'criterion': ['entropy', 'gini'],\n",
       "                                        'max_depth': [10, 120, 230, 340, 450,\n",
       "                                                      560, 670, 780, 890,\n",
       "                                                      1000],\n",
       "                                        'max_features': ['auto', 'sqrt',\n",
       "                                                         'log2'],\n",
       "                                        'min_samples_leaf': [1, 2, 4, 6, 8],\n",
       "                                        'min_samples_split': [1, 3, 4, 5, 7, 9],\n",
       "                                        'n_estimators': [10, 86, 163, 240, 316,\n",
       "                                                         393, 470, 546, 623,\n",
       "                                                         700]},\n",
       "                   random_state=100, verbose=2)"
      ]
     },
     "execution_count": 64,
     "metadata": {},
     "output_type": "execute_result"
    }
   ],
   "source": [
    "rf_randomcv"
   ]
  },
  {
   "cell_type": "code",
   "execution_count": 65,
   "metadata": {},
   "outputs": [
    {
     "data": {
      "text/plain": [
       "RandomForestClassifier(criterion='entropy', max_depth=1000, max_features='sqrt',\n",
       "                       min_samples_split=3, n_estimators=623)"
      ]
     },
     "execution_count": 65,
     "metadata": {},
     "output_type": "execute_result"
    }
   ],
   "source": [
    "best_random_grid=rf_randomcv.best_estimator_\n",
    "best_random_grid"
   ]
  },
  {
   "cell_type": "code",
   "execution_count": 66,
   "metadata": {},
   "outputs": [
    {
     "name": "stdout",
     "output_type": "stream",
     "text": [
      "[[103   0]\n",
      " [  0 102]]\n",
      "Accuracy Score 1.0\n",
      "Classification report:               precision    recall  f1-score   support\n",
      "\n",
      "           0       1.00      1.00      1.00       103\n",
      "           1       1.00      1.00      1.00       102\n",
      "\n",
      "    accuracy                           1.00       205\n",
      "   macro avg       1.00      1.00      1.00       205\n",
      "weighted avg       1.00      1.00      1.00       205\n",
      "\n"
     ]
    }
   ],
   "source": [
    "from sklearn.metrics import accuracy_score\n",
    "y_pred_rand=best_random_grid.predict(x_test)\n",
    "print(confusion_matrix(y_test,y_pred_rand))\n",
    "print(\"Accuracy Score {}\".format(accuracy_score(y_test,y_pred_rand)))\n",
    "print(\"Classification report: {}\".format(classification_report(y_test,y_pred_rand)))"
   ]
  },
  {
   "cell_type": "markdown",
   "metadata": {},
   "source": [
    "### GRIDSEARCH CV"
   ]
  },
  {
   "cell_type": "code",
   "execution_count": 81,
   "metadata": {},
   "outputs": [
    {
     "data": {
      "text/plain": [
       "[0, 100, 400, 700, 800]"
      ]
     },
     "execution_count": 81,
     "metadata": {},
     "output_type": "execute_result"
    }
   ],
   "source": [
    "[rf_randomcv.best_params_['n_estimators'] - 400, rf_randomcv.best_params_['n_estimators'] - 300, \n",
    "                     rf_randomcv.best_params_['n_estimators'], \n",
    "                     rf_randomcv.best_params_['n_estimators'] + 300, rf_randomcv.best_params_['n_estimators'] + 400]"
   ]
  },
  {
   "cell_type": "code",
   "execution_count": 82,
   "metadata": {},
   "outputs": [
    {
     "name": "stdout",
     "output_type": "stream",
     "text": [
      "{'criterion': ['gini'], 'max_depth': [120], 'max_features': ['auto'], 'min_samples_leaf': [1, 3, 5], 'min_samples_split': [1, 2, 3, 4, 5], 'n_estimators': [0, 100, 400, 700, 800]}\n"
     ]
    }
   ],
   "source": [
    "from sklearn.model_selection import GridSearchCV\n",
    "\n",
    "param_grid = {\n",
    "    'criterion': [rf_randomcv.best_params_['criterion']],\n",
    "    'max_depth': [rf_randomcv.best_params_['max_depth']],\n",
    "    'max_features': [rf_randomcv.best_params_['max_features']],\n",
    "    'min_samples_leaf': [rf_randomcv.best_params_['min_samples_leaf'], \n",
    "                         rf_randomcv.best_params_['min_samples_leaf']+2, \n",
    "                         rf_randomcv.best_params_['min_samples_leaf'] + 4],\n",
    "    'min_samples_split': [rf_randomcv.best_params_['min_samples_split'] - 2,\n",
    "                          rf_randomcv.best_params_['min_samples_split'] - 1,\n",
    "                          rf_randomcv.best_params_['min_samples_split'], \n",
    "                          rf_randomcv.best_params_['min_samples_split'] +1,\n",
    "                          rf_randomcv.best_params_['min_samples_split'] + 2],\n",
    "    'n_estimators': [rf_randomcv.best_params_['n_estimators'] - 400, rf_randomcv.best_params_['n_estimators'] - 300, \n",
    "                     rf_randomcv.best_params_['n_estimators'], \n",
    "                     rf_randomcv.best_params_['n_estimators'] + 300, rf_randomcv.best_params_['n_estimators'] + 400]\n",
    "}\n",
    "\n",
    "print(param_grid)"
   ]
  },
  {
   "cell_type": "code",
   "execution_count": 83,
   "metadata": {},
   "outputs": [
    {
     "name": "stdout",
     "output_type": "stream",
     "text": [
      "Fitting 10 folds for each of 75 candidates, totalling 750 fits\n"
     ]
    },
    {
     "name": "stderr",
     "output_type": "stream",
     "text": [
      "[Parallel(n_jobs=-1)]: Using backend LokyBackend with 8 concurrent workers.\n",
      "[Parallel(n_jobs=-1)]: Done  25 tasks      | elapsed:    6.4s\n",
      "[Parallel(n_jobs=-1)]: Done 146 tasks      | elapsed:   34.9s\n",
      "[Parallel(n_jobs=-1)]: Done 349 tasks      | elapsed:  1.3min\n",
      "[Parallel(n_jobs=-1)]: Done 632 tasks      | elapsed:  2.4min\n",
      "[Parallel(n_jobs=-1)]: Done 750 out of 750 | elapsed:  2.9min finished\n"
     ]
    },
    {
     "data": {
      "text/plain": [
       "GridSearchCV(cv=10, estimator=RandomForestClassifier(), n_jobs=-1,\n",
       "             param_grid={'criterion': ['gini'], 'max_depth': [120],\n",
       "                         'max_features': ['auto'],\n",
       "                         'min_samples_leaf': [1, 3, 5],\n",
       "                         'min_samples_split': [1, 2, 3, 4, 5],\n",
       "                         'n_estimators': [0, 100, 400, 700, 800]},\n",
       "             verbose=2)"
      ]
     },
     "execution_count": 83,
     "metadata": {},
     "output_type": "execute_result"
    }
   ],
   "source": [
    "#### Fit the grid_search to the data\n",
    "rf=RandomForestClassifier()\n",
    "grid_search=GridSearchCV(estimator=rf,param_grid=param_grid,cv=10,n_jobs=-1,verbose=2)\n",
    "grid_search.fit(x_train,y_train)"
   ]
  },
  {
   "cell_type": "code",
   "execution_count": 88,
   "metadata": {},
   "outputs": [
    {
     "data": {
      "text/plain": [
       "RandomForestClassifier(criterion='entropy', max_depth=560, max_features='log2',\n",
       "                       n_estimators=1600)"
      ]
     },
     "execution_count": 88,
     "metadata": {},
     "output_type": "execute_result"
    }
   ],
   "source": [
    "grid_search.best_estimator_"
   ]
  },
  {
   "cell_type": "code",
   "execution_count": 89,
   "metadata": {},
   "outputs": [],
   "source": [
    "best_grid=grid_search.best_estimator_"
   ]
  },
  {
   "cell_type": "code",
   "execution_count": 90,
   "metadata": {
    "scrolled": true
   },
   "outputs": [
    {
     "name": "stdout",
     "output_type": "stream",
     "text": [
      "[[103   0]\n",
      " [  3  99]]\n",
      "Accuracy Score 0.9853658536585366\n",
      "Classification report:               precision    recall  f1-score   support\n",
      "\n",
      "           0       0.97      1.00      0.99       103\n",
      "           1       1.00      0.97      0.99       102\n",
      "\n",
      "    accuracy                           0.99       205\n",
      "   macro avg       0.99      0.99      0.99       205\n",
      "weighted avg       0.99      0.99      0.99       205\n",
      "\n"
     ]
    }
   ],
   "source": [
    "y_pred_grid=best_grid.predict(x_test)\n",
    "print(confusion_matrix(y_test,y_pred_grid))\n",
    "print(\"Accuracy Score {}\".format(accuracy_score(y_test,y_pred_grid)))\n",
    "print(\"Classification report: {}\".format(classification_report(y_test,y_pred_grid)))"
   ]
  },
  {
   "cell_type": "markdown",
   "metadata": {},
   "source": [
    "### Automated Hyperparameter Tuning"
   ]
  },
  {
   "cell_type": "markdown",
   "metadata": {},
   "source": [
    "### Bayesian Optimization"
   ]
  },
  {
   "cell_type": "code",
   "execution_count": 84,
   "metadata": {},
   "outputs": [],
   "source": [
    "from hyperopt import hp,fmin,tpe,STATUS_OK,Trials"
   ]
  },
  {
   "cell_type": "code",
   "execution_count": 85,
   "metadata": {},
   "outputs": [],
   "source": [
    "space = {'criterion': hp.choice('criterion', ['entropy', 'gini']),\n",
    "        'max_depth': hp.quniform('max_depth', 10, 1200, 10),\n",
    "        'max_features': hp.choice('max_features', ['auto', 'sqrt','log2', None]),\n",
    "        'min_samples_leaf': hp.uniform('min_samples_leaf', 0, 0.5),\n",
    "        'min_samples_split' : hp.uniform ('min_samples_split', 0, 1),\n",
    "        'n_estimators' : hp.choice('n_estimators', [10, 50, 300, 750, 1200,1300,1500])\n",
    "    }"
   ]
  },
  {
   "cell_type": "code",
   "execution_count": 86,
   "metadata": {},
   "outputs": [
    {
     "data": {
      "text/plain": [
       "{'criterion': <hyperopt.pyll.base.Apply at 0x29c0cf91ee0>,\n",
       " 'max_depth': <hyperopt.pyll.base.Apply at 0x29c0c988fd0>,\n",
       " 'max_features': <hyperopt.pyll.base.Apply at 0x29c0c2c82e0>,\n",
       " 'min_samples_leaf': <hyperopt.pyll.base.Apply at 0x29c0cc85eb0>,\n",
       " 'min_samples_split': <hyperopt.pyll.base.Apply at 0x29c0cf9e0d0>,\n",
       " 'n_estimators': <hyperopt.pyll.base.Apply at 0x29c0cf9e1c0>}"
      ]
     },
     "execution_count": 86,
     "metadata": {},
     "output_type": "execute_result"
    }
   ],
   "source": [
    "space"
   ]
  },
  {
   "cell_type": "code",
   "execution_count": 89,
   "metadata": {},
   "outputs": [],
   "source": [
    "\n",
    "def objective(space):\n",
    "    model = RandomForestClassifier(criterion = space['criterion'], max_depth = space['max_depth'],\n",
    "                                 max_features = space['max_features'],\n",
    "                                 min_samples_leaf = space['min_samples_leaf'],\n",
    "                                 min_samples_split = space['min_samples_split'],\n",
    "                                 n_estimators = space['n_estimators'], \n",
    "                                 )\n",
    "    \n",
    "    accuracy = cross_val_score(model, x_train, y_train, cv = 5).mean()\n",
    "\n",
    "    # We aim to maximize accuracy, therefore we return it as a negative value\n",
    "    return {'loss': -accuracy, 'status': STATUS_OK }"
   ]
  },
  {
   "cell_type": "code",
   "execution_count": 90,
   "metadata": {},
   "outputs": [
    {
     "name": "stdout",
     "output_type": "stream",
     "text": [
      "100%|███████████████████████████████████████████████| 80/80 [05:41<00:00,  4.27s/trial, best loss: -0.9487804878048781]\n"
     ]
    },
    {
     "data": {
      "text/plain": [
       "{'criterion': 1,\n",
       " 'max_depth': 300.0,\n",
       " 'max_features': 2,\n",
       " 'min_samples_leaf': 0.0019091656117188201,\n",
       " 'min_samples_split': 0.0001165826554404949,\n",
       " 'n_estimators': 1}"
      ]
     },
     "execution_count": 90,
     "metadata": {},
     "output_type": "execute_result"
    }
   ],
   "source": [
    "from sklearn.model_selection import cross_val_score\n",
    "trials = Trials()\n",
    "best = fmin(fn= objective,\n",
    "            space= space,\n",
    "            algo= tpe.suggest,\n",
    "            max_evals = 80,\n",
    "            trials= trials)\n",
    "best"
   ]
  },
  {
   "cell_type": "code",
   "execution_count": 91,
   "metadata": {},
   "outputs": [
    {
     "name": "stdout",
     "output_type": "stream",
     "text": [
      "gini\n",
      "log2\n",
      "50\n"
     ]
    }
   ],
   "source": [
    "crit = {0: 'entropy', 1: 'gini'}\n",
    "feat = {0: 'auto', 1: 'sqrt', 2: 'log2', 3: None}\n",
    "est = {0: 10, 1: 50, 2: 300, 3: 750, 4: 1200,5:1300,6:1500}\n",
    "\n",
    "\n",
    "print(crit[best['criterion']])\n",
    "print(feat[best['max_features']])\n",
    "print(est[best['n_estimators']])"
   ]
  },
  {
   "cell_type": "code",
   "execution_count": 94,
   "metadata": {
    "scrolled": true
   },
   "outputs": [
    {
     "name": "stdout",
     "output_type": "stream",
     "text": [
      "[[101   2]\n",
      " [  6  96]]\n",
      "0.9609756097560975\n",
      "              precision    recall  f1-score   support\n",
      "\n",
      "           0       0.94      0.98      0.96       103\n",
      "           1       0.98      0.94      0.96       102\n",
      "\n",
      "    accuracy                           0.96       205\n",
      "   macro avg       0.96      0.96      0.96       205\n",
      "weighted avg       0.96      0.96      0.96       205\n",
      "\n"
     ]
    }
   ],
   "source": [
    "trainedforest = RandomForestClassifier(criterion = crit[best['criterion']], max_depth = best['max_depth'], \n",
    "                                       max_features = feat[best['max_features']], \n",
    "                                       min_samples_leaf = best['min_samples_leaf'], \n",
    "                                       min_samples_split = best['min_samples_split'], \n",
    "                                       n_estimators = est[best['n_estimators']]).fit(x_train,y_train)\n",
    "predictionforest = trainedforest.predict(x_test)\n",
    "print(confusion_matrix(y_test,predictionforest))\n",
    "print(accuracy_score(y_test,predictionforest))\n",
    "print(classification_report(y_test,predictionforest))\n",
    "acc5 = accuracy_score(y_test,predictionforest)"
   ]
  },
  {
   "cell_type": "markdown",
   "metadata": {},
   "source": [
    "### Genetic Algorithm"
   ]
  },
  {
   "cell_type": "code",
   "execution_count": 95,
   "metadata": {},
   "outputs": [
    {
     "name": "stdout",
     "output_type": "stream",
     "text": [
      "{'n_estimators': [200, 400, 600, 800, 1000, 1200, 1400, 1600, 1800, 2000], 'max_features': ['auto', 'sqrt', 'log2'], 'max_depth': [10, 120, 230, 340, 450, 560, 670, 780, 890, 1000], 'min_samples_split': [2, 5, 10, 14], 'min_samples_leaf': [1, 2, 4, 6, 8], 'criterion': ['entropy', 'gini']}\n"
     ]
    }
   ],
   "source": [
    "import numpy as np\n",
    "from sklearn.model_selection import RandomizedSearchCV\n",
    "# Number of trees in random forest\n",
    "n_estimators = [int(x) for x in np.linspace(start = 200, stop = 2000, num = 10)]\n",
    "# Number of features to consider at every split\n",
    "max_features = ['auto', 'sqrt','log2']\n",
    "# Maximum number of levels in tree\n",
    "max_depth = [int(x) for x in np.linspace(10, 1000,10)]\n",
    "# Minimum number of samples required to split a node\n",
    "min_samples_split = [2, 5, 10,14]\n",
    "# Minimum number of samples required at each leaf node\n",
    "min_samples_leaf = [1, 2, 4,6,8]\n",
    "# Create the random grid\n",
    "param = {'n_estimators': n_estimators,\n",
    "               'max_features': max_features,\n",
    "               'max_depth': max_depth,\n",
    "               'min_samples_split': min_samples_split,\n",
    "               'min_samples_leaf': min_samples_leaf,\n",
    "              'criterion':['entropy','gini']}\n",
    "print(param)"
   ]
  },
  {
   "cell_type": "code",
   "execution_count": 96,
   "metadata": {
    "collapsed": true
   },
   "outputs": [
    {
     "name": "stderr",
     "output_type": "stream",
     "text": [
      "C:\\Users\\shiwam\\anaconda3\\lib\\site-packages\\tpot\\builtins\\__init__.py:36: UserWarning: Warning: optional dependency `torch` is not available. - skipping import of NN models.\n",
      "  warnings.warn(\"Warning: optional dependency `torch` is not available. - skipping import of NN models.\")\n"
     ]
    },
    {
     "data": {
      "application/vnd.jupyter.widget-view+json": {
       "model_id": "",
       "version_major": 2,
       "version_minor": 0
      },
      "text/plain": [
       "HBox(children=(HTML(value='Optimization Progress'), FloatProgress(value=0.0, max=84.0), HTML(value='')))"
      ]
     },
     "metadata": {},
     "output_type": "display_data"
    },
    {
     "name": "stdout",
     "output_type": "stream",
     "text": [
      "\n",
      "Generation 1 - Current best internal CV score: 0.9560975609756097\n",
      "\n",
      "Generation 2 - Current best internal CV score: 0.9560975609756097\n",
      "\n",
      "Generation 3 - Current best internal CV score: 0.9560975609756097\n",
      "\n",
      "Generation 4 - Current best internal CV score: 0.9560975609756097\n",
      "\n",
      "Generation 5 - Current best internal CV score: 0.9573170731707317\n",
      "\n",
      "Best pipeline: RandomForestClassifier(CombineDFs(RandomForestClassifier(input_matrix, criterion=entropy, max_depth=780, max_features=auto, min_samples_leaf=8, min_samples_split=10, n_estimators=2000), input_matrix), criterion=gini, max_depth=890, max_features=auto, min_samples_leaf=1, min_samples_split=2, n_estimators=1400)\n"
     ]
    },
    {
     "data": {
      "text/plain": [
       "TPOTClassifier(config_dict={'sklearn.ensemble.RandomForestClassifier': {'criterion': ['entropy',\n",
       "                                                                                      'gini'],\n",
       "                                                                        'max_depth': [10,\n",
       "                                                                                      120,\n",
       "                                                                                      230,\n",
       "                                                                                      340,\n",
       "                                                                                      450,\n",
       "                                                                                      560,\n",
       "                                                                                      670,\n",
       "                                                                                      780,\n",
       "                                                                                      890,\n",
       "                                                                                      1000],\n",
       "                                                                        'max_features': ['auto',\n",
       "                                                                                         'sqrt',\n",
       "                                                                                         'log2'],\n",
       "                                                                        'min_samples_leaf': [1,\n",
       "                                                                                             2,\n",
       "                                                                                             4,\n",
       "                                                                                             6,\n",
       "                                                                                             8],\n",
       "                                                                        'min_samples_split': [2,\n",
       "                                                                                              5,\n",
       "                                                                                              10,\n",
       "                                                                                              14],\n",
       "                                                                        'n_estimators': [200,\n",
       "                                                                                         400,\n",
       "                                                                                         600,\n",
       "                                                                                         800,\n",
       "                                                                                         1000,\n",
       "                                                                                         1200,\n",
       "                                                                                         1400,\n",
       "                                                                                         1600,\n",
       "                                                                                         1800,\n",
       "                                                                                         2000]}},\n",
       "               cv=4, early_stop=12, generations=5, offspring_size=12,\n",
       "               population_size=24, scoring='accuracy', verbosity=2)"
      ]
     },
     "execution_count": 96,
     "metadata": {},
     "output_type": "execute_result"
    }
   ],
   "source": [
    "\n",
    "from tpot import TPOTClassifier\n",
    "\n",
    "\n",
    "tpot_classifier = TPOTClassifier(generations= 5, population_size= 24, offspring_size= 12,\n",
    "                                 verbosity= 2, early_stop= 12,\n",
    "                                 config_dict={'sklearn.ensemble.RandomForestClassifier': param}, \n",
    "                                 cv = 4, scoring = 'accuracy')\n",
    "tpot_classifier.fit(x_train,y_train)"
   ]
  },
  {
   "cell_type": "code",
   "execution_count": 97,
   "metadata": {},
   "outputs": [
    {
     "name": "stdout",
     "output_type": "stream",
     "text": [
      "0.9853658536585366\n"
     ]
    }
   ],
   "source": [
    "\n",
    "accuracy = tpot_classifier.score(x_test, y_test)\n",
    "print(accuracy)"
   ]
  },
  {
   "cell_type": "markdown",
   "metadata": {},
   "source": [
    "### Optimize hyperparameters of the model using Optuna"
   ]
  },
  {
   "cell_type": "code",
   "execution_count": 98,
   "metadata": {},
   "outputs": [],
   "source": [
    "import optuna\n",
    "import sklearn.svm\n",
    "def objective(trial):\n",
    "\n",
    "    classifier = trial.suggest_categorical('classifier', ['RandomForest', 'SVC'])\n",
    "    \n",
    "    if classifier == 'RandomForest':\n",
    "        n_estimators = trial.suggest_int('n_estimators', 200, 2000,10)\n",
    "        max_depth = int(trial.suggest_float('max_depth', 10, 100, log=True))\n",
    "\n",
    "        clf = sklearn.ensemble.RandomForestClassifier(\n",
    "            n_estimators=n_estimators, max_depth=max_depth)\n",
    "    else:\n",
    "        c = trial.suggest_float('svc_c', 1e-10, 1e10, log=True)\n",
    "        \n",
    "        clf = sklearn.svm.SVC(C=c, gamma='auto')\n",
    "\n",
    "    return sklearn.model_selection.cross_val_score(\n",
    "        clf,x_train,y_train, n_jobs=-1, cv=3).mean()\n"
   ]
  },
  {
   "cell_type": "code",
   "execution_count": 99,
   "metadata": {
    "collapsed": true
   },
   "outputs": [
    {
     "name": "stderr",
     "output_type": "stream",
     "text": [
      "\u001b[32m[I 2022-04-30 17:06:37,101]\u001b[0m A new study created in memory with name: no-name-e904f774-3fdf-4a6a-bd75-1908739cedd3\u001b[0m\n",
      "\u001b[32m[I 2022-04-30 17:06:46,672]\u001b[0m Trial 0 finished with value: 0.9353849718813222 and parameters: {'classifier': 'RandomForest', 'n_estimators': 1730, 'max_depth': 91.25489156909477}. Best is trial 0 with value: 0.9353849718813222.\u001b[0m\n",
      "\u001b[32m[I 2022-04-30 17:06:52,456]\u001b[0m Trial 1 finished with value: 0.934163970660321 and parameters: {'classifier': 'RandomForest', 'n_estimators': 1240, 'max_depth': 74.54742733322496}. Best is trial 0 with value: 0.9353849718813222.\u001b[0m\n",
      "\u001b[32m[I 2022-04-30 17:06:57,841]\u001b[0m Trial 2 finished with value: 0.9305009669973173 and parameters: {'classifier': 'RandomForest', 'n_estimators': 1190, 'max_depth': 47.59596485726036}. Best is trial 0 with value: 0.9353849718813222.\u001b[0m\n",
      "\u001b[32m[I 2022-04-30 17:07:01,110]\u001b[0m Trial 3 finished with value: 0.934163970660321 and parameters: {'classifier': 'RandomForest', 'n_estimators': 1080, 'max_depth': 19.07983486079432}. Best is trial 0 with value: 0.9353849718813222.\u001b[0m\n",
      "\u001b[32m[I 2022-04-30 17:07:02,554]\u001b[0m Trial 4 finished with value: 0.9317219682183185 and parameters: {'classifier': 'RandomForest', 'n_estimators': 470, 'max_depth': 27.138550430237206}. Best is trial 0 with value: 0.9353849718813222.\u001b[0m\n",
      "\u001b[32m[I 2022-04-30 17:07:02,798]\u001b[0m Trial 5 finished with value: 0.7670873327807635 and parameters: {'classifier': 'SVC', 'svc_c': 244.16218652494527}. Best is trial 0 with value: 0.9353849718813222.\u001b[0m\n",
      "\u001b[32m[I 2022-04-30 17:07:25,903]\u001b[0m Trial 6 finished with value: 0.8634528488543087 and parameters: {'classifier': 'SVC', 'svc_c': 212647.49854525283}. Best is trial 0 with value: 0.9353849718813222.\u001b[0m\n",
      "\u001b[32m[I 2022-04-30 17:07:30,274]\u001b[0m Trial 7 finished with value: 0.9402645205564912 and parameters: {'classifier': 'RandomForest', 'n_estimators': 1740, 'max_depth': 13.074559995813376}. Best is trial 7 with value: 0.9402645205564912.\u001b[0m\n",
      "\u001b[32m[I 2022-04-30 17:07:30,306]\u001b[0m Trial 8 finished with value: 0.5170717360498384 and parameters: {'classifier': 'SVC', 'svc_c': 1.661611100575238e-08}. Best is trial 7 with value: 0.9402645205564912.\u001b[0m\n",
      "\u001b[32m[I 2022-04-30 17:07:35,242]\u001b[0m Trial 9 finished with value: 0.8353787331889522 and parameters: {'classifier': 'SVC', 'svc_c': 15814.51177557767}. Best is trial 7 with value: 0.9402645205564912.\u001b[0m\n",
      "\u001b[32m[I 2022-04-30 17:07:40,210]\u001b[0m Trial 10 finished with value: 0.9353805156724864 and parameters: {'classifier': 'RandomForest', 'n_estimators': 1970, 'max_depth': 10.432979800890053}. Best is trial 7 with value: 0.9402645205564912.\u001b[0m\n",
      "\u001b[32m[I 2022-04-30 17:07:44,857]\u001b[0m Trial 11 finished with value: 0.9317219682183185 and parameters: {'classifier': 'RandomForest', 'n_estimators': 1940, 'max_depth': 83.93387577362328}. Best is trial 7 with value: 0.9402645205564912.\u001b[0m\n",
      "\u001b[32m[I 2022-04-30 17:07:48,785]\u001b[0m Trial 12 finished with value: 0.9378225181144888 and parameters: {'classifier': 'RandomForest', 'n_estimators': 1630, 'max_depth': 10.24275784172267}. Best is trial 7 with value: 0.9402645205564912.\u001b[0m\n",
      "\u001b[32m[I 2022-04-30 17:07:52,930]\u001b[0m Trial 13 finished with value: 0.9329385132304839 and parameters: {'classifier': 'RandomForest', 'n_estimators': 1600, 'max_depth': 10.58569879547228}. Best is trial 7 with value: 0.9402645205564912.\u001b[0m\n",
      "\u001b[32m[I 2022-04-30 17:07:56,828]\u001b[0m Trial 14 finished with value: 0.9353805156724864 and parameters: {'classifier': 'RandomForest', 'n_estimators': 1520, 'max_depth': 15.295973991502237}. Best is trial 7 with value: 0.9402645205564912.\u001b[0m\n",
      "\u001b[32m[I 2022-04-30 17:07:58,686]\u001b[0m Trial 15 finished with value: 0.9317219682183185 and parameters: {'classifier': 'RandomForest', 'n_estimators': 740, 'max_depth': 16.392522654471723}. Best is trial 7 with value: 0.9402645205564912.\u001b[0m\n",
      "\u001b[32m[I 2022-04-30 17:08:02,600]\u001b[0m Trial 16 finished with value: 0.9329429694393198 and parameters: {'classifier': 'RandomForest', 'n_estimators': 1430, 'max_depth': 27.01359718926401}. Best is trial 7 with value: 0.9402645205564912.\u001b[0m\n",
      "\u001b[32m[I 2022-04-30 17:08:07,168]\u001b[0m Trial 17 finished with value: 0.9366015168934876 and parameters: {'classifier': 'RandomForest', 'n_estimators': 1760, 'max_depth': 13.537629814609641}. Best is trial 7 with value: 0.9402645205564912.\u001b[0m\n",
      "\u001b[32m[I 2022-04-30 17:08:07,221]\u001b[0m Trial 18 finished with value: 0.5170717360498384 and parameters: {'classifier': 'SVC', 'svc_c': 1.542784985460135e-07}. Best is trial 7 with value: 0.9402645205564912.\u001b[0m\n",
      "\u001b[32m[I 2022-04-30 17:08:09,715]\u001b[0m Trial 19 finished with value: 0.9366015168934876 and parameters: {'classifier': 'RandomForest', 'n_estimators': 990, 'max_depth': 21.07262138996124}. Best is trial 7 with value: 0.9402645205564912.\u001b[0m\n",
      "\u001b[32m[I 2022-04-30 17:08:13,345]\u001b[0m Trial 20 finished with value: 0.9353849718813222 and parameters: {'classifier': 'RandomForest', 'n_estimators': 1380, 'max_depth': 35.9432240693624}. Best is trial 7 with value: 0.9402645205564912.\u001b[0m\n",
      "\u001b[32m[I 2022-04-30 17:08:17,785]\u001b[0m Trial 21 finished with value: 0.9366015168934876 and parameters: {'classifier': 'RandomForest', 'n_estimators': 1740, 'max_depth': 13.169427276862695}. Best is trial 7 with value: 0.9402645205564912.\u001b[0m\n",
      "\u001b[32m[I 2022-04-30 17:08:22,361]\u001b[0m Trial 22 finished with value: 0.9366015168934876 and parameters: {'classifier': 'RandomForest', 'n_estimators': 1750, 'max_depth': 12.786697510448356}. Best is trial 7 with value: 0.9402645205564912.\u001b[0m\n",
      "\u001b[32m[I 2022-04-30 17:08:26,955]\u001b[0m Trial 23 finished with value: 0.9305054232061533 and parameters: {'classifier': 'RandomForest', 'n_estimators': 1780, 'max_depth': 10.39708456312871}. Best is trial 7 with value: 0.9402645205564912.\u001b[0m\n",
      "\u001b[32m[I 2022-04-30 17:08:30,809]\u001b[0m Trial 24 finished with value: 0.9353849718813222 and parameters: {'classifier': 'RandomForest', 'n_estimators': 1590, 'max_depth': 20.04024038723007}. Best is trial 7 with value: 0.9402645205564912.\u001b[0m\n",
      "\u001b[32m[I 2022-04-30 17:08:35,910]\u001b[0m Trial 25 finished with value: 0.9366015168934876 and parameters: {'classifier': 'RandomForest', 'n_estimators': 2000, 'max_depth': 12.928047283627706}. Best is trial 7 with value: 0.9402645205564912.\u001b[0m\n",
      "\u001b[32m[I 2022-04-30 17:08:39,386]\u001b[0m Trial 26 finished with value: 0.9353805156724864 and parameters: {'classifier': 'RandomForest', 'n_estimators': 1330, 'max_depth': 16.494660415086273}. Best is trial 7 with value: 0.9402645205564912.\u001b[0m\n",
      "\u001b[32m[I 2022-04-30 17:31:38,812]\u001b[0m Trial 27 finished with value: 0.7487990517187598 and parameters: {'classifier': 'SVC', 'svc_c': 7836605792.672419}. Best is trial 7 with value: 0.9402645205564912.\u001b[0m\n",
      "\u001b[32m[I 2022-04-30 17:31:46,819]\u001b[0m Trial 28 finished with value: 0.9366015168934876 and parameters: {'classifier': 'RandomForest', 'n_estimators': 1970, 'max_depth': 11.888180489539732}. Best is trial 7 with value: 0.9402645205564912.\u001b[0m\n",
      "\u001b[32m[I 2022-04-30 17:31:53,757]\u001b[0m Trial 29 finished with value: 0.9353849718813222 and parameters: {'classifier': 'RandomForest', 'n_estimators': 1880, 'max_depth': 53.683929084256924}. Best is trial 7 with value: 0.9402645205564912.\u001b[0m\n",
      "\u001b[32m[I 2022-04-30 17:31:56,556]\u001b[0m Trial 30 finished with value: 0.9414855217774926 and parameters: {'classifier': 'RandomForest', 'n_estimators': 270, 'max_depth': 23.808499851166957}. Best is trial 30 with value: 0.9414855217774926.\u001b[0m\n",
      "\u001b[32m[I 2022-04-30 17:31:57,425]\u001b[0m Trial 31 finished with value: 0.9317175120094827 and parameters: {'classifier': 'RandomForest', 'n_estimators': 320, 'max_depth': 24.14272810934738}. Best is trial 30 with value: 0.9414855217774926.\u001b[0m\n",
      "\u001b[32m[I 2022-04-30 17:31:59,513]\u001b[0m Trial 32 finished with value: 0.9353805156724864 and parameters: {'classifier': 'RandomForest', 'n_estimators': 830, 'max_depth': 16.36515834134701}. Best is trial 30 with value: 0.9414855217774926.\u001b[0m\n",
      "\u001b[32m[I 2022-04-30 17:32:01,039]\u001b[0m Trial 33 finished with value: 0.9414855217774926 and parameters: {'classifier': 'RandomForest', 'n_estimators': 700, 'max_depth': 11.846928131005077}. Best is trial 30 with value: 0.9414855217774926.\u001b[0m\n",
      "\u001b[32m[I 2022-04-30 17:32:01,554]\u001b[0m Trial 34 finished with value: 0.934163970660321 and parameters: {'classifier': 'RandomForest', 'n_estimators': 200, 'max_depth': 39.09497387394393}. Best is trial 30 with value: 0.9414855217774926.\u001b[0m\n"
     ]
    },
    {
     "name": "stderr",
     "output_type": "stream",
     "text": [
      "\u001b[32m[I 2022-04-30 17:32:02,846]\u001b[0m Trial 35 finished with value: 0.934163970660321 and parameters: {'classifier': 'RandomForest', 'n_estimators': 570, 'max_depth': 14.710319168274276}. Best is trial 30 with value: 0.9414855217774926.\u001b[0m\n",
      "\u001b[32m[I 2022-04-30 17:32:04,208]\u001b[0m Trial 36 finished with value: 0.9366015168934876 and parameters: {'classifier': 'RandomForest', 'n_estimators': 640, 'max_depth': 11.586733211220011}. Best is trial 30 with value: 0.9414855217774926.\u001b[0m\n",
      "\u001b[32m[I 2022-04-30 17:32:06,502]\u001b[0m Trial 37 finished with value: 0.9305009669973173 and parameters: {'classifier': 'RandomForest', 'n_estimators': 940, 'max_depth': 18.248771772841124}. Best is trial 30 with value: 0.9414855217774926.\u001b[0m\n",
      "\u001b[32m[I 2022-04-30 17:32:06,533]\u001b[0m Trial 38 finished with value: 0.5170717360498384 and parameters: {'classifier': 'SVC', 'svc_c': 0.0012731177125505444}. Best is trial 30 with value: 0.9414855217774926.\u001b[0m\n",
      "\u001b[32m[I 2022-04-30 17:32:07,646]\u001b[0m Trial 39 finished with value: 0.9378269743233246 and parameters: {'classifier': 'RandomForest', 'n_estimators': 420, 'max_depth': 23.344505148074898}. Best is trial 30 with value: 0.9414855217774926.\u001b[0m\n",
      "\u001b[32m[I 2022-04-30 17:32:07,672]\u001b[0m Trial 40 finished with value: 0.634140798374375 and parameters: {'classifier': 'SVC', 'svc_c': 0.01771023685288755}. Best is trial 30 with value: 0.9414855217774926.\u001b[0m\n",
      "\u001b[32m[I 2022-04-30 17:32:08,575]\u001b[0m Trial 41 finished with value: 0.9256169621133123 and parameters: {'classifier': 'RandomForest', 'n_estimators': 390, 'max_depth': 23.08542506210528}. Best is trial 30 with value: 0.9414855217774926.\u001b[0m\n",
      "\u001b[32m[I 2022-04-30 17:32:09,115]\u001b[0m Trial 42 finished with value: 0.9353849718813222 and parameters: {'classifier': 'RandomForest', 'n_estimators': 220, 'max_depth': 31.506891289010817}. Best is trial 30 with value: 0.9414855217774926.\u001b[0m\n",
      "\u001b[32m[I 2022-04-30 17:32:10,363]\u001b[0m Trial 43 finished with value: 0.9329429694393198 and parameters: {'classifier': 'RandomForest', 'n_estimators': 520, 'max_depth': 29.31826068076003}. Best is trial 30 with value: 0.9414855217774926.\u001b[0m\n",
      "\u001b[32m[I 2022-04-30 17:32:11,322]\u001b[0m Trial 44 finished with value: 0.9353849718813222 and parameters: {'classifier': 'RandomForest', 'n_estimators': 390, 'max_depth': 46.08403793930703}. Best is trial 30 with value: 0.9414855217774926.\u001b[0m\n",
      "\u001b[32m[I 2022-04-30 17:32:12,869]\u001b[0m Trial 45 finished with value: 0.9353805156724864 and parameters: {'classifier': 'RandomForest', 'n_estimators': 700, 'max_depth': 18.194746263303934}. Best is trial 30 with value: 0.9414855217774926.\u001b[0m\n",
      "\u001b[32m[I 2022-04-30 17:32:13,476]\u001b[0m Trial 46 finished with value: 0.9329385132304839 and parameters: {'classifier': 'RandomForest', 'n_estimators': 290, 'max_depth': 11.415042961370412}. Best is trial 30 with value: 0.9414855217774926.\u001b[0m\n",
      "\u001b[32m[I 2022-04-30 17:32:16,047]\u001b[0m Trial 47 finished with value: 0.9390479755443258 and parameters: {'classifier': 'RandomForest', 'n_estimators': 1190, 'max_depth': 22.838862767633525}. Best is trial 30 with value: 0.9414855217774926.\u001b[0m\n",
      "\u001b[32m[I 2022-04-30 22:08:26,656]\u001b[0m Trial 48 finished with value: 0.7439016782082476 and parameters: {'classifier': 'SVC', 'svc_c': 696087569.5914599}. Best is trial 30 with value: 0.9414855217774926.\u001b[0m\n",
      "\u001b[32m[I 2022-04-30 22:08:35,756]\u001b[0m Trial 49 finished with value: 0.9378269743233246 and parameters: {'classifier': 'RandomForest', 'n_estimators': 1270, 'max_depth': 21.028338440855936}. Best is trial 30 with value: 0.9414855217774926.\u001b[0m\n",
      "\u001b[32m[I 2022-04-30 22:08:40,706]\u001b[0m Trial 50 finished with value: 0.9329429694393198 and parameters: {'classifier': 'RandomForest', 'n_estimators': 1220, 'max_depth': 26.807040770967536}. Best is trial 30 with value: 0.9414855217774926.\u001b[0m\n",
      "\u001b[32m[I 2022-04-30 22:08:45,080]\u001b[0m Trial 51 finished with value: 0.9317219682183185 and parameters: {'classifier': 'RandomForest', 'n_estimators': 1150, 'max_depth': 23.311654040135487}. Best is trial 30 with value: 0.9414855217774926.\u001b[0m\n",
      "\u001b[32m[I 2022-04-30 22:08:47,551]\u001b[0m Trial 52 finished with value: 0.9353849718813222 and parameters: {'classifier': 'RandomForest', 'n_estimators': 1070, 'max_depth': 21.52732015169584}. Best is trial 30 with value: 0.9414855217774926.\u001b[0m\n",
      "\u001b[32m[I 2022-04-30 22:08:49,534]\u001b[0m Trial 53 finished with value: 0.9317219682183185 and parameters: {'classifier': 'RandomForest', 'n_estimators': 850, 'max_depth': 25.216037574492972}. Best is trial 30 with value: 0.9414855217774926.\u001b[0m\n",
      "\u001b[32m[I 2022-04-30 22:08:52,469]\u001b[0m Trial 54 finished with value: 0.9353849718813222 and parameters: {'classifier': 'RandomForest', 'n_estimators': 1300, 'max_depth': 34.174106711455806}. Best is trial 30 with value: 0.9414855217774926.\u001b[0m\n",
      "\u001b[32m[I 2022-04-30 22:08:53,533]\u001b[0m Trial 55 finished with value: 0.9292755095674803 and parameters: {'classifier': 'RandomForest', 'n_estimators': 440, 'max_depth': 18.930838944641874}. Best is trial 30 with value: 0.9414855217774926.\u001b[0m\n",
      "\u001b[32m[I 2022-04-30 22:08:56,875]\u001b[0m Trial 56 finished with value: 0.9353849718813222 and parameters: {'classifier': 'RandomForest', 'n_estimators': 1440, 'max_depth': 28.881994423971776}. Best is trial 30 with value: 0.9414855217774926.\u001b[0m\n",
      "\u001b[32m[I 2022-04-30 22:08:59,266]\u001b[0m Trial 57 finished with value: 0.9329385132304839 and parameters: {'classifier': 'RandomForest', 'n_estimators': 1020, 'max_depth': 15.022015470138202}. Best is trial 30 with value: 0.9414855217774926.\u001b[0m\n",
      "\u001b[32m[I 2022-04-30 22:09:00,730]\u001b[0m Trial 58 finished with value: 0.934163970660321 and parameters: {'classifier': 'RandomForest', 'n_estimators': 600, 'max_depth': 21.151207794814205}. Best is trial 30 with value: 0.9414855217774926.\u001b[0m\n",
      "\u001b[32m[I 2022-04-30 22:09:00,778]\u001b[0m Trial 59 finished with value: 0.5170717360498384 and parameters: {'classifier': 'SVC', 'svc_c': 1.1721277370111603e-10}. Best is trial 30 with value: 0.9414855217774926.\u001b[0m\n",
      "\u001b[32m[I 2022-04-30 22:09:02,785]\u001b[0m Trial 60 finished with value: 0.9353849718813222 and parameters: {'classifier': 'RandomForest', 'n_estimators': 870, 'max_depth': 17.91041798267352}. Best is trial 30 with value: 0.9414855217774926.\u001b[0m\n",
      "\u001b[32m[I 2022-04-30 22:09:06,799]\u001b[0m Trial 61 finished with value: 0.934163970660321 and parameters: {'classifier': 'RandomForest', 'n_estimators': 1670, 'max_depth': 97.73915381060323}. Best is trial 30 with value: 0.9414855217774926.\u001b[0m\n",
      "\u001b[32m[I 2022-04-30 22:09:10,374]\u001b[0m Trial 62 finished with value: 0.9341684268691569 and parameters: {'classifier': 'RandomForest', 'n_estimators': 1540, 'max_depth': 10.507325873098488}. Best is trial 30 with value: 0.9414855217774926.\u001b[0m\n",
      "\u001b[32m[I 2022-04-30 22:09:13,693]\u001b[0m Trial 63 finished with value: 0.9353805156724864 and parameters: {'classifier': 'RandomForest', 'n_estimators': 1470, 'max_depth': 13.267392333921267}. Best is trial 30 with value: 0.9414855217774926.\u001b[0m\n",
      "\u001b[32m[I 2022-04-30 22:09:16,307]\u001b[0m Trial 64 finished with value: 0.9304965107884815 and parameters: {'classifier': 'RandomForest', 'n_estimators': 1150, 'max_depth': 10.057511786892979}. Best is trial 30 with value: 0.9414855217774926.\u001b[0m\n",
      "\u001b[32m[I 2022-04-30 22:09:20,562]\u001b[0m Trial 65 finished with value: 0.9366059731023234 and parameters: {'classifier': 'RandomForest', 'n_estimators': 1840, 'max_depth': 14.200902667757342}. Best is trial 30 with value: 0.9414855217774926.\u001b[0m\n",
      "\u001b[32m[I 2022-04-30 22:09:24,332]\u001b[0m Trial 66 finished with value: 0.9366015168934876 and parameters: {'classifier': 'RandomForest', 'n_estimators': 1630, 'max_depth': 12.348686475155985}. Best is trial 30 with value: 0.9414855217774926.\u001b[0m\n",
      "\u001b[32m[I 2022-04-30 22:09:27,322]\u001b[0m Trial 67 finished with value: 0.934163970660321 and parameters: {'classifier': 'RandomForest', 'n_estimators': 1310, 'max_depth': 22.17552094359514}. Best is trial 30 with value: 0.9414855217774926.\u001b[0m\n",
      "\u001b[32m[I 2022-04-30 22:09:28,055]\u001b[0m Trial 68 finished with value: 0.9366059731023234 and parameters: {'classifier': 'RandomForest', 'n_estimators': 300, 'max_depth': 16.325718347528248}. Best is trial 30 with value: 0.9414855217774926.\u001b[0m\n",
      "\u001b[32m[I 2022-04-30 22:09:29,857]\u001b[0m Trial 69 finished with value: 0.9304965107884815 and parameters: {'classifier': 'RandomForest', 'n_estimators': 760, 'max_depth': 25.15174471399992}. Best is trial 30 with value: 0.9414855217774926.\u001b[0m\n"
     ]
    },
    {
     "name": "stderr",
     "output_type": "stream",
     "text": [
      "\u001b[32m[I 2022-04-30 22:09:29,903]\u001b[0m Trial 70 finished with value: 0.5170717360498384 and parameters: {'classifier': 'SVC', 'svc_c': 0.00019888230008203677}. Best is trial 30 with value: 0.9414855217774926.\u001b[0m\n",
      "\u001b[32m[I 2022-04-30 22:09:30,913]\u001b[0m Trial 71 finished with value: 0.9366059731023234 and parameters: {'classifier': 'RandomForest', 'n_estimators': 350, 'max_depth': 15.761403249955016}. Best is trial 30 with value: 0.9414855217774926.\u001b[0m\n",
      "\u001b[32m[I 2022-04-30 22:09:32,226]\u001b[0m Trial 72 finished with value: 0.9292888781939878 and parameters: {'classifier': 'RandomForest', 'n_estimators': 510, 'max_depth': 19.504082036432546}. Best is trial 30 with value: 0.9414855217774926.\u001b[0m\n",
      "\u001b[32m[I 2022-04-30 22:09:32,904]\u001b[0m Trial 73 finished with value: 0.9329385132304839 and parameters: {'classifier': 'RandomForest', 'n_estimators': 260, 'max_depth': 11.297469696693598}. Best is trial 30 with value: 0.9414855217774926.\u001b[0m\n",
      "\u001b[32m[I 2022-04-30 22:09:33,815]\u001b[0m Trial 74 finished with value: 0.9341595144514852 and parameters: {'classifier': 'RandomForest', 'n_estimators': 380, 'max_depth': 14.075804583751433}. Best is trial 30 with value: 0.9414855217774926.\u001b[0m\n",
      "\u001b[32m[I 2022-04-30 22:09:37,845]\u001b[0m Trial 75 finished with value: 0.934163970660321 and parameters: {'classifier': 'RandomForest', 'n_estimators': 1690, 'max_depth': 16.92612139552355}. Best is trial 30 with value: 0.9414855217774926.\u001b[0m\n",
      "\u001b[32m[I 2022-04-30 22:09:38,968]\u001b[0m Trial 76 finished with value: 0.9317219682183185 and parameters: {'classifier': 'RandomForest', 'n_estimators': 460, 'max_depth': 15.430897501827623}. Best is trial 30 with value: 0.9414855217774926.\u001b[0m\n",
      "\u001b[32m[I 2022-04-30 22:09:43,157]\u001b[0m Trial 77 finished with value: 0.9353805156724864 and parameters: {'classifier': 'RandomForest', 'n_estimators': 1830, 'max_depth': 14.327569344015076}. Best is trial 30 with value: 0.9414855217774926.\u001b[0m\n",
      "\u001b[32m[I 2022-04-30 22:09:45,282]\u001b[0m Trial 78 finished with value: 0.93904351933549 and parameters: {'classifier': 'RandomForest', 'n_estimators': 940, 'max_depth': 12.322435283662585}. Best is trial 30 with value: 0.9414855217774926.\u001b[0m\n",
      "\u001b[32m[I 2022-04-30 22:09:47,539]\u001b[0m Trial 79 finished with value: 0.9353849718813222 and parameters: {'classifier': 'RandomForest', 'n_estimators': 970, 'max_depth': 63.56452824545561}. Best is trial 30 with value: 0.9414855217774926.\u001b[0m\n",
      "\u001b[32m[I 2022-04-30 22:09:50,542]\u001b[0m Trial 80 finished with value: 0.9366015168934876 and parameters: {'classifier': 'RandomForest', 'n_estimators': 1260, 'max_depth': 11.024112736914024}. Best is trial 30 with value: 0.9414855217774926.\u001b[0m\n",
      "\u001b[32m[I 2022-04-30 22:09:55,140]\u001b[0m Trial 81 finished with value: 0.9366015168934876 and parameters: {'classifier': 'RandomForest', 'n_estimators': 1910, 'max_depth': 12.436914895820284}. Best is trial 30 with value: 0.9414855217774926.\u001b[0m\n",
      "\u001b[32m[I 2022-04-30 22:09:58,532]\u001b[0m Trial 82 finished with value: 0.9353849718813222 and parameters: {'classifier': 'RandomForest', 'n_estimators': 1370, 'max_depth': 20.238617845279098}. Best is trial 30 with value: 0.9414855217774926.\u001b[0m\n",
      "\u001b[32m[I 2022-04-30 22:10:02,668]\u001b[0m Trial 83 finished with value: 0.9366015168934876 and parameters: {'classifier': 'RandomForest', 'n_estimators': 1820, 'max_depth': 12.154567721397179}. Best is trial 30 with value: 0.9414855217774926.\u001b[0m\n",
      "\u001b[32m[I 2022-04-30 22:10:03,470]\u001b[0m Trial 84 finished with value: 0.9378225181144888 and parameters: {'classifier': 'RandomForest', 'n_estimators': 340, 'max_depth': 13.072426416961445}. Best is trial 30 with value: 0.9414855217774926.\u001b[0m\n",
      "\u001b[32m[I 2022-04-30 22:10:05,209]\u001b[0m Trial 85 finished with value: 0.9305054232061533 and parameters: {'classifier': 'RandomForest', 'n_estimators': 750, 'max_depth': 10.1696082642621}. Best is trial 30 with value: 0.9414855217774926.\u001b[0m\n",
      "\u001b[32m[I 2022-04-30 22:10:07,773]\u001b[0m Trial 86 finished with value: 0.9353849718813222 and parameters: {'classifier': 'RandomForest', 'n_estimators': 1080, 'max_depth': 28.276895753650077}. Best is trial 30 with value: 0.9414855217774926.\u001b[0m\n",
      "\u001b[32m[I 2022-04-30 22:10:07,846]\u001b[0m Trial 87 finished with value: 0.704878657433402 and parameters: {'classifier': 'SVC', 'svc_c': 5.833878864808389}. Best is trial 30 with value: 0.9414855217774926.\u001b[0m\n",
      "\u001b[32m[I 2022-04-30 22:10:09,410]\u001b[0m Trial 88 finished with value: 0.9329385132304839 and parameters: {'classifier': 'RandomForest', 'n_estimators': 650, 'max_depth': 13.563007669692299}. Best is trial 30 with value: 0.9414855217774926.\u001b[0m\n",
      "\u001b[32m[I 2022-04-30 22:10:11,470]\u001b[0m Trial 89 finished with value: 0.9329385132304839 and parameters: {'classifier': 'RandomForest', 'n_estimators': 910, 'max_depth': 10.872776821773506}. Best is trial 30 with value: 0.9414855217774926.\u001b[0m\n",
      "\u001b[32m[I 2022-04-30 22:10:14,226]\u001b[0m Trial 90 finished with value: 0.9317219682183185 and parameters: {'classifier': 'RandomForest', 'n_estimators': 1190, 'max_depth': 32.59826317505443}. Best is trial 30 with value: 0.9414855217774926.\u001b[0m\n",
      "\u001b[32m[I 2022-04-30 22:10:14,775]\u001b[0m Trial 91 finished with value: 0.9414855217774926 and parameters: {'classifier': 'RandomForest', 'n_estimators': 230, 'max_depth': 11.873282551399322}. Best is trial 30 with value: 0.9414855217774926.\u001b[0m\n",
      "\u001b[32m[I 2022-04-30 22:10:15,431]\u001b[0m Trial 92 finished with value: 0.9414855217774926 and parameters: {'classifier': 'RandomForest', 'n_estimators': 260, 'max_depth': 11.8368141078125}. Best is trial 30 with value: 0.9414855217774926.\u001b[0m\n",
      "\u001b[32m[I 2022-04-30 22:10:16,031]\u001b[0m Trial 93 finished with value: 0.9353894280901581 and parameters: {'classifier': 'RandomForest', 'n_estimators': 230, 'max_depth': 11.909140284114999}. Best is trial 30 with value: 0.9414855217774926.\u001b[0m\n",
      "\u001b[32m[I 2022-04-30 22:10:16,688]\u001b[0m Trial 94 finished with value: 0.9317219682183185 and parameters: {'classifier': 'RandomForest', 'n_estimators': 260, 'max_depth': 39.175985412517825}. Best is trial 30 with value: 0.9414855217774926.\u001b[0m\n",
      "\u001b[32m[I 2022-04-30 22:10:17,484]\u001b[0m Trial 95 finished with value: 0.9366015168934876 and parameters: {'classifier': 'RandomForest', 'n_estimators': 330, 'max_depth': 13.043928729719712}. Best is trial 30 with value: 0.9414855217774926.\u001b[0m\n",
      "\u001b[32m[I 2022-04-30 22:10:18,404]\u001b[0m Trial 96 finished with value: 0.9353805156724864 and parameters: {'classifier': 'RandomForest', 'n_estimators': 390, 'max_depth': 24.678499746895557}. Best is trial 30 with value: 0.9414855217774926.\u001b[0m\n",
      "\u001b[32m[I 2022-04-30 22:10:20,793]\u001b[0m Trial 97 finished with value: 0.9366015168934876 and parameters: {'classifier': 'RandomForest', 'n_estimators': 1040, 'max_depth': 11.488215622466253}. Best is trial 30 with value: 0.9414855217774926.\u001b[0m\n",
      "\u001b[32m[I 2022-04-30 22:10:21,322]\u001b[0m Trial 98 finished with value: 0.9378225181144888 and parameters: {'classifier': 'RandomForest', 'n_estimators': 210, 'max_depth': 12.73362625991589}. Best is trial 30 with value: 0.9414855217774926.\u001b[0m\n",
      "\u001b[32m[I 2022-04-30 22:10:22,346]\u001b[0m Trial 99 finished with value: 0.9353849718813222 and parameters: {'classifier': 'RandomForest', 'n_estimators': 440, 'max_depth': 22.671516524578433}. Best is trial 30 with value: 0.9414855217774926.\u001b[0m\n"
     ]
    },
    {
     "name": "stdout",
     "output_type": "stream",
     "text": [
      "Accuracy: 0.9414855217774926\n",
      "Best hyperparameters: {'classifier': 'RandomForest', 'n_estimators': 270, 'max_depth': 23.808499851166957}\n"
     ]
    }
   ],
   "source": [
    "study = optuna.create_study(direction='maximize')\n",
    "study.optimize(objective, n_trials=100)\n",
    "\n",
    "trial = study.best_trial\n",
    "\n",
    "print('Accuracy: {}'.format(trial.value))\n",
    "print(\"Best hyperparameters: {}\".format(trial.params))"
   ]
  },
  {
   "cell_type": "code",
   "execution_count": 103,
   "metadata": {},
   "outputs": [
    {
     "data": {
      "text/plain": [
       "{'classifier': 'RandomForest',\n",
       " 'n_estimators': 270,\n",
       " 'max_depth': 23.808499851166957}"
      ]
     },
     "execution_count": 103,
     "metadata": {},
     "output_type": "execute_result"
    }
   ],
   "source": [
    "study.best_params"
   ]
  },
  {
   "cell_type": "code",
   "execution_count": 28,
   "metadata": {},
   "outputs": [
    {
     "data": {
      "text/plain": [
       "RandomForestClassifier(max_depth=23, n_estimators=270)"
      ]
     },
     "execution_count": 28,
     "metadata": {},
     "output_type": "execute_result"
    }
   ],
   "source": [
    "from sklearn.ensemble import RandomForestClassifier\n",
    "rf=RandomForestClassifier(n_estimators=270,max_depth=23)\n",
    "rf.fit(x_train,y_train)"
   ]
  },
  {
   "cell_type": "code",
   "execution_count": 29,
   "metadata": {},
   "outputs": [],
   "source": [
    "y_pred_opt=rf.predict(x_test)\n"
   ]
  },
  {
   "cell_type": "code",
   "execution_count": 30,
   "metadata": {},
   "outputs": [
    {
     "data": {
      "text/plain": [
       "array([[103,   0],\n",
       "       [  3,  99]], dtype=int64)"
      ]
     },
     "execution_count": 30,
     "metadata": {},
     "output_type": "execute_result"
    }
   ],
   "source": [
    "from sklearn.metrics import confusion_matrix, accuracy_score\n",
    "\n",
    "confusion_matrix(y_test,y_pred_opt)"
   ]
  },
  {
   "cell_type": "code",
   "execution_count": 27,
   "metadata": {},
   "outputs": [
    {
     "data": {
      "text/plain": [
       "0.9853658536585366"
      ]
     },
     "execution_count": 27,
     "metadata": {},
     "output_type": "execute_result"
    }
   ],
   "source": [
    "accuracy_score(y_test,y_pred_opt)"
   ]
  },
  {
   "cell_type": "code",
   "execution_count": null,
   "metadata": {},
   "outputs": [],
   "source": []
  },
  {
   "cell_type": "code",
   "execution_count": null,
   "metadata": {},
   "outputs": [],
   "source": []
  },
  {
   "cell_type": "markdown",
   "metadata": {},
   "source": [
    "### Decision tree"
   ]
  },
  {
   "cell_type": "code",
   "execution_count": 78,
   "metadata": {},
   "outputs": [
    {
     "data": {
      "text/plain": [
       "DecisionTreeClassifier(criterion='entropy', random_state=0)"
      ]
     },
     "execution_count": 78,
     "metadata": {},
     "output_type": "execute_result"
    }
   ],
   "source": [
    "from sklearn.tree import DecisionTreeClassifier\n",
    "classifier3= DecisionTreeClassifier(criterion=\"entropy\",random_state=0)\n",
    "classifier3.fit(x_train,y_train)"
   ]
  },
  {
   "cell_type": "code",
   "execution_count": 80,
   "metadata": {},
   "outputs": [
    {
     "name": "stdout",
     "output_type": "stream",
     "text": [
      "[[396   0]\n",
      " [  0 424]]\n",
      "              precision    recall  f1-score   support\n",
      "\n",
      "           0       1.00      1.00      1.00       396\n",
      "           1       1.00      1.00      1.00       424\n",
      "\n",
      "    accuracy                           1.00       820\n",
      "   macro avg       1.00      1.00      1.00       820\n",
      "weighted avg       1.00      1.00      1.00       820\n",
      "\n"
     ]
    },
    {
     "data": {
      "text/plain": [
       "1.0"
      ]
     },
     "execution_count": 80,
     "metadata": {},
     "output_type": "execute_result"
    }
   ],
   "source": [
    "y_test_pred_dt=classifier3.predict(x_train)\n",
    "from sklearn.metrics import confusion_matrix, accuracy_score\n",
    "print(confusion_matrix(y_train,y_test_pred_dt))\n",
    "\n",
    "from sklearn.metrics import classification_report\n",
    "print(classification_report(y_train,y_test_pred_dt))\n",
    "\n",
    "accuracy_score(y_train,y_test_pred_dt)"
   ]
  },
  {
   "cell_type": "code",
   "execution_count": 81,
   "metadata": {},
   "outputs": [],
   "source": [
    "y_pred_dt= classifier3.predict(x_test)\n"
   ]
  },
  {
   "cell_type": "code",
   "execution_count": 82,
   "metadata": {
    "scrolled": true
   },
   "outputs": [
    {
     "name": "stdout",
     "output_type": "stream",
     "text": [
      "[[103   0]\n",
      " [  3  99]]\n",
      "              precision    recall  f1-score   support\n",
      "\n",
      "           0       0.97      1.00      0.99       103\n",
      "           1       1.00      0.97      0.99       102\n",
      "\n",
      "    accuracy                           0.99       205\n",
      "   macro avg       0.99      0.99      0.99       205\n",
      "weighted avg       0.99      0.99      0.99       205\n",
      "\n"
     ]
    },
    {
     "data": {
      "text/plain": [
       "0.9853658536585366"
      ]
     },
     "execution_count": 82,
     "metadata": {},
     "output_type": "execute_result"
    }
   ],
   "source": [
    "from sklearn.metrics import confusion_matrix, accuracy_score\n",
    "print(confusion_matrix(y_test,y_pred_dt))\n",
    "\n",
    "from sklearn.metrics import classification_report\n",
    "print(classification_report(y_test,y_pred_dt))\n",
    "\n",
    "accuracy_score(y_test,y_pred_dt)"
   ]
  },
  {
   "cell_type": "code",
   "execution_count": 42,
   "metadata": {},
   "outputs": [
    {
     "name": "stdout",
     "output_type": "stream",
     "text": [
      "Accuracy: 97.56 %\n",
      "Standard Deviation: 2.67 %\n"
     ]
    }
   ],
   "source": [
    "from sklearn.model_selection import cross_val_score\n",
    "accuracies = cross_val_score(estimator = classifier3, X = x_train, y = y_train, cv = 10)\n",
    "print(\"Accuracy: {:.2f} %\".format(accuracies.mean()*100))\n",
    "print(\"Standard Deviation: {:.2f} %\".format(accuracies.std()*100))"
   ]
  },
  {
   "cell_type": "markdown",
   "metadata": {},
   "source": [
    "### Naive's Bayes"
   ]
  },
  {
   "cell_type": "code",
   "execution_count": 83,
   "metadata": {},
   "outputs": [
    {
     "data": {
      "text/plain": [
       "GaussianNB()"
      ]
     },
     "execution_count": 83,
     "metadata": {},
     "output_type": "execute_result"
    }
   ],
   "source": [
    "from sklearn.naive_bayes import GaussianNB\n",
    "classifier4= GaussianNB()\n",
    "classifier4.fit(x_train,y_train)"
   ]
  },
  {
   "cell_type": "code",
   "execution_count": 84,
   "metadata": {},
   "outputs": [
    {
     "name": "stdout",
     "output_type": "stream",
     "text": [
      "[[298  98]\n",
      " [ 49 375]]\n",
      "              precision    recall  f1-score   support\n",
      "\n",
      "           0       0.86      0.75      0.80       396\n",
      "           1       0.79      0.88      0.84       424\n",
      "\n",
      "    accuracy                           0.82       820\n",
      "   macro avg       0.83      0.82      0.82       820\n",
      "weighted avg       0.82      0.82      0.82       820\n",
      "\n"
     ]
    },
    {
     "data": {
      "text/plain": [
       "0.8207317073170731"
      ]
     },
     "execution_count": 84,
     "metadata": {},
     "output_type": "execute_result"
    }
   ],
   "source": [
    "y_test_pred_nb=classifier4.predict(x_train)\n",
    "from sklearn.metrics import confusion_matrix, accuracy_score\n",
    "print(confusion_matrix(y_train,y_test_pred_nb))\n",
    "\n",
    "from sklearn.metrics import classification_report\n",
    "print(classification_report(y_train,y_test_pred_nb))\n",
    "accuracy_score(y_train,y_test_pred_nb)"
   ]
  },
  {
   "cell_type": "code",
   "execution_count": 50,
   "metadata": {},
   "outputs": [],
   "source": [
    "y_pred_nb= classifier4.predict(x_test)\n"
   ]
  },
  {
   "cell_type": "code",
   "execution_count": 51,
   "metadata": {
    "scrolled": true
   },
   "outputs": [
    {
     "name": "stdout",
     "output_type": "stream",
     "text": [
      "[[74 29]\n",
      " [11 91]]\n",
      "              precision    recall  f1-score   support\n",
      "\n",
      "           0       0.87      0.72      0.79       103\n",
      "           1       0.76      0.89      0.82       102\n",
      "\n",
      "    accuracy                           0.80       205\n",
      "   macro avg       0.81      0.81      0.80       205\n",
      "weighted avg       0.81      0.80      0.80       205\n",
      "\n"
     ]
    },
    {
     "data": {
      "text/plain": [
       "0.8048780487804879"
      ]
     },
     "execution_count": 51,
     "metadata": {},
     "output_type": "execute_result"
    }
   ],
   "source": [
    "from sklearn.metrics import confusion_matrix, accuracy_score\n",
    "print(confusion_matrix(y_test,y_pred_nb))\n",
    "\n",
    "from sklearn.metrics import classification_report\n",
    "print(classification_report(y_test,y_pred_nb))\n",
    "\n",
    "accuracy_score(y_test,y_pred_nb)"
   ]
  },
  {
   "cell_type": "code",
   "execution_count": 74,
   "metadata": {},
   "outputs": [
    {
     "name": "stdout",
     "output_type": "stream",
     "text": [
      "Accuracy: 68.77 %\n",
      "Standard Deviation: 19.39 %\n"
     ]
    }
   ],
   "source": [
    "from sklearn.model_selection import cross_val_score\n",
    "accuracies = cross_val_score(estimator = classifier4, X = x_train, y = y_train, cv =120)\n",
    "print(\"Accuracy: {:.2f} %\".format(accuracies.mean()*100))\n",
    "print(\"Standard Deviation: {:.2f} %\".format(accuracies.std()*100))"
   ]
  },
  {
   "cell_type": "markdown",
   "metadata": {},
   "source": [
    "###    K-NN"
   ]
  },
  {
   "cell_type": "code",
   "execution_count": 85,
   "metadata": {},
   "outputs": [
    {
     "data": {
      "text/plain": [
       "KNeighborsClassifier(n_neighbors=4)"
      ]
     },
     "execution_count": 85,
     "metadata": {},
     "output_type": "execute_result"
    }
   ],
   "source": [
    "from sklearn.neighbors import KNeighborsClassifier\n",
    "classifier8= KNeighborsClassifier(n_neighbors=4)\n",
    "classifier8.fit(x_train,y_train)"
   ]
  },
  {
   "cell_type": "code",
   "execution_count": 88,
   "metadata": {},
   "outputs": [
    {
     "name": "stdout",
     "output_type": "stream",
     "text": [
      "[[358  38]\n",
      " [ 13 411]]\n",
      "              precision    recall  f1-score   support\n",
      "\n",
      "           0       0.96      0.90      0.93       396\n",
      "           1       0.92      0.97      0.94       424\n",
      "\n",
      "    accuracy                           0.94       820\n",
      "   macro avg       0.94      0.94      0.94       820\n",
      "weighted avg       0.94      0.94      0.94       820\n",
      "\n"
     ]
    },
    {
     "data": {
      "text/plain": [
       "0.9378048780487804"
      ]
     },
     "execution_count": 88,
     "metadata": {},
     "output_type": "execute_result"
    }
   ],
   "source": [
    "y_test_pred_knn=classifier1.predict(x_train)\n",
    "from sklearn.metrics import confusion_matrix, accuracy_score\n",
    "print(confusion_matrix(y_train,y_test_pred_knn))\n",
    "\n",
    "from sklearn.metrics import classification_report\n",
    "print(classification_report(y_train,y_test_pred_knn))\n",
    "\n",
    "accuracy_score(y_train,y_test_pred_knn)"
   ]
  },
  {
   "cell_type": "code",
   "execution_count": 89,
   "metadata": {},
   "outputs": [],
   "source": [
    "y_pred_KNN= classifier8.predict(x_test)"
   ]
  },
  {
   "cell_type": "code",
   "execution_count": 90,
   "metadata": {},
   "outputs": [
    {
     "name": "stdout",
     "output_type": "stream",
     "text": [
      "[[101   2]\n",
      " [ 18  84]]\n",
      "              precision    recall  f1-score   support\n",
      "\n",
      "           0       0.85      0.98      0.91       103\n",
      "           1       0.98      0.82      0.89       102\n",
      "\n",
      "    accuracy                           0.90       205\n",
      "   macro avg       0.91      0.90      0.90       205\n",
      "weighted avg       0.91      0.90      0.90       205\n",
      "\n"
     ]
    },
    {
     "data": {
      "text/plain": [
       "0.9024390243902439"
      ]
     },
     "execution_count": 90,
     "metadata": {},
     "output_type": "execute_result"
    }
   ],
   "source": [
    "from sklearn.metrics import confusion_matrix, accuracy_score\n",
    "print(confusion_matrix(y_test,y_pred_KNN))\n",
    "\n",
    "from sklearn.metrics import classification_report\n",
    "print(classification_report(y_test,y_pred_KNN))\n",
    "\n",
    "accuracy_score(y_test,y_pred_KNN)"
   ]
  },
  {
   "cell_type": "code",
   "execution_count": 50,
   "metadata": {},
   "outputs": [
    {
     "name": "stdout",
     "output_type": "stream",
     "text": [
      "Accuracy: 69.15 %\n",
      "Standard Deviation: 2.99 %\n"
     ]
    }
   ],
   "source": [
    "from sklearn.model_selection import cross_val_score\n",
    "accuracies = cross_val_score(estimator = classifier8, X = x_train, y = y_train, cv = 10)\n",
    "print(\"Accuracy: {:.2f} %\".format(accuracies.mean()*100))\n",
    "print(\"Standard Deviation: {:.2f} %\".format(accuracies.std()*100))"
   ]
  },
  {
   "cell_type": "markdown",
   "metadata": {},
   "source": [
    "### ENSEMBLE LEARNING"
   ]
  },
  {
   "cell_type": "markdown",
   "metadata": {},
   "source": [
    "### GRADIENT BOOSTING"
   ]
  },
  {
   "cell_type": "code",
   "execution_count": 91,
   "metadata": {
    "scrolled": true
   },
   "outputs": [
    {
     "data": {
      "text/plain": [
       "GradientBoostingClassifier(learning_rate=1.0, max_depth=1, random_state=0)"
      ]
     },
     "execution_count": 91,
     "metadata": {},
     "output_type": "execute_result"
    }
   ],
   "source": [
    "from sklearn.ensemble import GradientBoostingClassifier\n",
    "classifier5= GradientBoostingClassifier(n_estimators=100,learning_rate=1.0,max_depth=1,random_state=0)\n",
    "classifier5.fit(x_train,y_train)"
   ]
  },
  {
   "cell_type": "code",
   "execution_count": null,
   "metadata": {},
   "outputs": [],
   "source": [
    "y_test_pred_svm=classifier1.predict(x_train_pca)\n",
    "from sklearn.metrics import confusion_matrix, accuracy_score\n",
    "print(confusion_matrix(y_train_pca,y_test_pred_svm))\n",
    "\n",
    "from sklearn.metrics import classification_report\n",
    "print(classification_report(y_train_pca,y_test_pred_svm))\n",
    "\n",
    "accuracy_score(y_train_pca,y_test_pred_svm)"
   ]
  },
  {
   "cell_type": "code",
   "execution_count": 56,
   "metadata": {},
   "outputs": [],
   "source": [
    "y_pred_gb= classifier5.predict(x_test)\n"
   ]
  },
  {
   "cell_type": "code",
   "execution_count": 57,
   "metadata": {
    "scrolled": true
   },
   "outputs": [
    {
     "name": "stdout",
     "output_type": "stream",
     "text": [
      "[[98  5]\n",
      " [ 3 99]]\n",
      "              precision    recall  f1-score   support\n",
      "\n",
      "           0       0.97      0.95      0.96       103\n",
      "           1       0.95      0.97      0.96       102\n",
      "\n",
      "    accuracy                           0.96       205\n",
      "   macro avg       0.96      0.96      0.96       205\n",
      "weighted avg       0.96      0.96      0.96       205\n",
      "\n"
     ]
    },
    {
     "data": {
      "text/plain": [
       "0.9609756097560975"
      ]
     },
     "execution_count": 57,
     "metadata": {},
     "output_type": "execute_result"
    }
   ],
   "source": [
    "from sklearn.metrics import confusion_matrix, accuracy_score\n",
    "print(confusion_matrix(y_test,y_pred_gb))\n",
    "\n",
    "from sklearn.metrics import classification_report\n",
    "print(classification_report(y_test,y_pred_gb))\n",
    "\n",
    "accuracy_score(y_test,y_pred_gb)"
   ]
  },
  {
   "cell_type": "code",
   "execution_count": 54,
   "metadata": {},
   "outputs": [
    {
     "name": "stdout",
     "output_type": "stream",
     "text": [
      "Accuracy: 81.46 %\n",
      "Standard Deviation: 4.69 %\n"
     ]
    }
   ],
   "source": [
    "from sklearn.model_selection import cross_val_score\n",
    "accuracies = cross_val_score(estimator = classifier5, X = x_train, y = y_train, cv = 10)\n",
    "print(\"Accuracy: {:.2f} %\".format(accuracies.mean()*100))\n",
    "print(\"Standard Deviation: {:.2f} %\".format(accuracies.std()*100))"
   ]
  },
  {
   "cell_type": "markdown",
   "metadata": {},
   "source": [
    "### ADABOOST"
   ]
  },
  {
   "cell_type": "code",
   "execution_count": 58,
   "metadata": {},
   "outputs": [
    {
     "data": {
      "text/plain": [
       "AdaBoostClassifier(n_estimators=100, random_state=0)"
      ]
     },
     "execution_count": 58,
     "metadata": {},
     "output_type": "execute_result"
    }
   ],
   "source": [
    "from sklearn.ensemble import AdaBoostClassifier\n",
    "classifier6= AdaBoostClassifier(n_estimators=100,random_state=0)\n",
    "classifier6.fit(x_train,y_train)"
   ]
  },
  {
   "cell_type": "code",
   "execution_count": 59,
   "metadata": {},
   "outputs": [],
   "source": [
    "y_pred_ab= classifier6.predict(x_test)"
   ]
  },
  {
   "cell_type": "code",
   "execution_count": 60,
   "metadata": {
    "scrolled": true
   },
   "outputs": [
    {
     "name": "stdout",
     "output_type": "stream",
     "text": [
      "[[ 98   5]\n",
      " [  2 100]]\n",
      "              precision    recall  f1-score   support\n",
      "\n",
      "           0       0.98      0.95      0.97       103\n",
      "           1       0.95      0.98      0.97       102\n",
      "\n",
      "    accuracy                           0.97       205\n",
      "   macro avg       0.97      0.97      0.97       205\n",
      "weighted avg       0.97      0.97      0.97       205\n",
      "\n"
     ]
    },
    {
     "data": {
      "text/plain": [
       "0.9658536585365853"
      ]
     },
     "execution_count": 60,
     "metadata": {},
     "output_type": "execute_result"
    }
   ],
   "source": [
    "from sklearn.metrics import confusion_matrix, accuracy_score\n",
    "print(confusion_matrix(y_test,y_pred_ab))\n",
    "\n",
    "from sklearn.metrics import classification_report\n",
    "print(classification_report(y_test,y_pred_ab))\n",
    "\n",
    "accuracy_score(y_test,y_pred_ab)"
   ]
  },
  {
   "cell_type": "code",
   "execution_count": 58,
   "metadata": {},
   "outputs": [
    {
     "name": "stdout",
     "output_type": "stream",
     "text": [
      "Accuracy: 81.22 %\n",
      "Standard Deviation: 3.71 %\n"
     ]
    }
   ],
   "source": [
    "from sklearn.model_selection import cross_val_score\n",
    "accuracies = cross_val_score(estimator = classifier6, X = x_train, y = y_train, cv = 10)\n",
    "print(\"Accuracy: {:.2f} %\".format(accuracies.mean()*100))\n",
    "print(\"Standard Deviation: {:.2f} %\".format(accuracies.std()*100))"
   ]
  },
  {
   "cell_type": "markdown",
   "metadata": {},
   "source": [
    "### BAGGING"
   ]
  },
  {
   "cell_type": "code",
   "execution_count": 61,
   "metadata": {},
   "outputs": [
    {
     "ename": "NameError",
     "evalue": "name 'x_train_pca' is not defined",
     "output_type": "error",
     "traceback": [
      "\u001b[1;31m---------------------------------------------------------------------------\u001b[0m",
      "\u001b[1;31mNameError\u001b[0m                                 Traceback (most recent call last)",
      "\u001b[1;32m<ipython-input-61-bc6fcb82d996>\u001b[0m in \u001b[0;36m<module>\u001b[1;34m\u001b[0m\n\u001b[0;32m      2\u001b[0m \u001b[1;32mfrom\u001b[0m \u001b[0msklearn\u001b[0m\u001b[1;33m.\u001b[0m\u001b[0msvm\u001b[0m \u001b[1;32mimport\u001b[0m \u001b[0mSVC\u001b[0m\u001b[1;33m\u001b[0m\u001b[1;33m\u001b[0m\u001b[0m\n\u001b[0;32m      3\u001b[0m \u001b[0mclassifier7\u001b[0m\u001b[1;33m=\u001b[0m \u001b[0mBaggingClassifier\u001b[0m\u001b[1;33m(\u001b[0m\u001b[0mbase_estimator\u001b[0m\u001b[1;33m=\u001b[0m\u001b[0mSVC\u001b[0m\u001b[1;33m(\u001b[0m\u001b[1;33m)\u001b[0m\u001b[1;33m,\u001b[0m\u001b[0mn_estimators\u001b[0m\u001b[1;33m=\u001b[0m\u001b[1;36m10\u001b[0m\u001b[1;33m,\u001b[0m\u001b[0mrandom_state\u001b[0m\u001b[1;33m=\u001b[0m\u001b[1;36m0\u001b[0m\u001b[1;33m)\u001b[0m\u001b[1;33m\u001b[0m\u001b[1;33m\u001b[0m\u001b[0m\n\u001b[1;32m----> 4\u001b[1;33m \u001b[0mclassifier7\u001b[0m\u001b[1;33m.\u001b[0m\u001b[0mfit\u001b[0m\u001b[1;33m(\u001b[0m\u001b[0mx_train_pca\u001b[0m\u001b[1;33m,\u001b[0m\u001b[0my_train_pca\u001b[0m\u001b[1;33m)\u001b[0m\u001b[1;33m\u001b[0m\u001b[1;33m\u001b[0m\u001b[0m\n\u001b[0m",
      "\u001b[1;31mNameError\u001b[0m: name 'x_train_pca' is not defined"
     ]
    }
   ],
   "source": [
    "from sklearn.ensemble import BaggingClassifier\n",
    "from sklearn.svm import SVC\n",
    "classifier7= BaggingClassifier(base_estimator=SVC(),n_estimators=10,random_state=0)\n",
    "classifier7.fit(x_train_,y_train_pca)"
   ]
  },
  {
   "cell_type": "code",
   "execution_count": 62,
   "metadata": {},
   "outputs": [
    {
     "ename": "NameError",
     "evalue": "name 'x_test_pca' is not defined",
     "output_type": "error",
     "traceback": [
      "\u001b[1;31m---------------------------------------------------------------------------\u001b[0m",
      "\u001b[1;31mNameError\u001b[0m                                 Traceback (most recent call last)",
      "\u001b[1;32m<ipython-input-62-2826f32382b4>\u001b[0m in \u001b[0;36m<module>\u001b[1;34m\u001b[0m\n\u001b[1;32m----> 1\u001b[1;33m \u001b[0my_pred_bagging\u001b[0m\u001b[1;33m=\u001b[0m \u001b[0mclassifier7\u001b[0m\u001b[1;33m.\u001b[0m\u001b[0mpredict\u001b[0m\u001b[1;33m(\u001b[0m\u001b[0mx_test_pca\u001b[0m\u001b[1;33m)\u001b[0m\u001b[1;33m\u001b[0m\u001b[1;33m\u001b[0m\u001b[0m\n\u001b[0m",
      "\u001b[1;31mNameError\u001b[0m: name 'x_test_pca' is not defined"
     ]
    }
   ],
   "source": [
    "y_pred_bagging= classifier7.predict(x_test_pca)\n"
   ]
  },
  {
   "cell_type": "code",
   "execution_count": 620,
   "metadata": {},
   "outputs": [
    {
     "name": "stdout",
     "output_type": "stream",
     "text": [
      "[[18  2]\n",
      " [ 4  4]]\n",
      "              precision    recall  f1-score   support\n",
      "\n",
      "           0       0.82      0.90      0.86        20\n",
      "           1       0.67      0.50      0.57         8\n",
      "\n",
      "    accuracy                           0.79        28\n",
      "   macro avg       0.74      0.70      0.71        28\n",
      "weighted avg       0.77      0.79      0.78        28\n",
      "\n"
     ]
    },
    {
     "data": {
      "text/plain": [
       "0.7857142857142857"
      ]
     },
     "execution_count": 620,
     "metadata": {},
     "output_type": "execute_result"
    }
   ],
   "source": [
    "from sklearn.metrics import confusion_matrix, accuracy_score\n",
    "print(confusion_matrix(y_test_pca,y_pred_bagging))\n",
    "\n",
    "from sklearn.metrics import classification_report\n",
    "print(classification_report(y_test_pca,y_pred_bagging))\n",
    "\n",
    "accuracy_score(y_test_pca,y_pred_bagging)"
   ]
  },
  {
   "cell_type": "markdown",
   "metadata": {},
   "source": [
    "### XG boost"
   ]
  },
  {
   "cell_type": "code",
   "execution_count": 621,
   "metadata": {},
   "outputs": [
    {
     "name": "stdout",
     "output_type": "stream",
     "text": [
      "Requirement already satisfied: xgboost in c:\\users\\shiwam\\anaconda3\\lib\\site-packages (1.6.0)\n",
      "Requirement already satisfied: scipy in c:\\users\\shiwam\\anaconda3\\lib\\site-packages (from xgboost) (1.5.2)\n",
      "Requirement already satisfied: numpy in c:\\users\\shiwam\\anaconda3\\lib\\site-packages (from xgboost) (1.19.2)\n",
      "Note: you may need to restart the kernel to use updated packages.\n"
     ]
    }
   ],
   "source": [
    "pip install xgboost"
   ]
  },
  {
   "cell_type": "code",
   "execution_count": 63,
   "metadata": {
    "scrolled": false
   },
   "outputs": [
    {
     "data": {
      "text/plain": [
       "XGBClassifier(base_score=0.5, booster='gbtree', callbacks=None,\n",
       "              colsample_bylevel=1, colsample_bynode=1, colsample_bytree=1,\n",
       "              early_stopping_rounds=None, enable_categorical=False,\n",
       "              eval_metric=None, gamma=0, gpu_id=-1, grow_policy='depthwise',\n",
       "              importance_type=None, interaction_constraints='',\n",
       "              learning_rate=0.300000012, max_bin=256, max_cat_to_onehot=4,\n",
       "              max_delta_step=0, max_depth=6, max_leaves=0, min_child_weight=1,\n",
       "              missing=nan, monotone_constraints='()', n_estimators=100,\n",
       "              n_jobs=0, num_parallel_tree=1, predictor='auto', random_state=0,\n",
       "              reg_alpha=0, reg_lambda=1, ...)"
      ]
     },
     "execution_count": 63,
     "metadata": {},
     "output_type": "execute_result"
    }
   ],
   "source": [
    "from xgboost import XGBClassifier\n",
    "classifier_XGB = XGBClassifier()\n",
    "classifier_XGB.fit(x_train, y_train)"
   ]
  },
  {
   "cell_type": "code",
   "execution_count": 64,
   "metadata": {},
   "outputs": [],
   "source": [
    "y_pred_xgb=classifier_XGB.predict(x_test)"
   ]
  },
  {
   "cell_type": "code",
   "execution_count": 65,
   "metadata": {
    "scrolled": true
   },
   "outputs": [
    {
     "name": "stdout",
     "output_type": "stream",
     "text": [
      "[[103   0]\n",
      " [  3  99]]\n",
      "              precision    recall  f1-score   support\n",
      "\n",
      "           0       0.97      1.00      0.99       103\n",
      "           1       1.00      0.97      0.99       102\n",
      "\n",
      "    accuracy                           0.99       205\n",
      "   macro avg       0.99      0.99      0.99       205\n",
      "weighted avg       0.99      0.99      0.99       205\n",
      "\n"
     ]
    },
    {
     "data": {
      "text/plain": [
       "0.9853658536585366"
      ]
     },
     "execution_count": 65,
     "metadata": {},
     "output_type": "execute_result"
    }
   ],
   "source": [
    "from sklearn.metrics import confusion_matrix, accuracy_score\n",
    "print(confusion_matrix(y_test,y_pred_xgb))\n",
    "\n",
    "from sklearn.metrics import classification_report\n",
    "print(classification_report(y_test,y_pred_xgb))\n",
    "\n",
    "accuracy_score(y_test,y_pred_xgb)"
   ]
  },
  {
   "cell_type": "code",
   "execution_count": 62,
   "metadata": {},
   "outputs": [
    {
     "name": "stdout",
     "output_type": "stream",
     "text": [
      "Accuracy: 98.05 %\n",
      "Standard Deviation: 1.65 %\n"
     ]
    }
   ],
   "source": [
    "from sklearn.model_selection import cross_val_score\n",
    "accuracies = cross_val_score(estimator = classifier_XGB, X = x_train, y = y_train, cv = 10)\n",
    "print(\"Accuracy: {:.2f} %\".format(accuracies.mean()*100))\n",
    "print(\"Standard Deviation: {:.2f} %\".format(accuracies.std()*100))"
   ]
  },
  {
   "cell_type": "markdown",
   "metadata": {},
   "source": [
    "### without outliers and with pca"
   ]
  },
  {
   "cell_type": "code",
   "execution_count": 461,
   "metadata": {},
   "outputs": [
    {
     "data": {
      "image/png": "[encoded data removed]",
      "text/plain": [
       "<Figure size 2880x1440 with 14 Axes>"
      ]
     },
     "metadata": {
      "needs_background": "light"
     },
     "output_type": "display_data"
    }
   ],
   "source": [
    "#Creating subplot of each column with its own scale\n",
    "red_circle=dict(markerfacecolor=\"red\",marker=\"o\",markeredgecolor=\"white\")\n",
    "fig, axs = plt.subplots(1,len(data.columns),figsize=(40,20))\n",
    "for i, ax in enumerate(axs.flat):\n",
    "    ax.boxplot(data.iloc[:,i],flierprops=red_circle)\n",
    "    ax.set_title(data.columns[i],fontsize=20,fontweight=\"bold\")\n",
    "    ax.tick_params(axis=\"y\",labelsize=14)\n",
    "    \n",
    "plt.tight_layout()\n",
    "\n",
    "\n"
   ]
  },
  {
   "cell_type": "code",
   "execution_count": 462,
   "metadata": {},
   "outputs": [],
   "source": [
    "#create a function to calculate IQR bounds\n",
    "def IQR_bounds(dataframe, column_name, multiple):\n",
    "    \"\"\"Extract the upper and lower bound for outlier detection using IQR\n",
    "    \n",
    "    Input:\n",
    "        dataframe: Dataframe you want to extract the upper and lower bound from\n",
    "        column_name: column name you want to extract upper and lower bound for\n",
    "        multiple: The multiple to use to extract this\n",
    "        \n",
    "    Output:\n",
    "        lower_bound = lower bound for column\n",
    "        upper_bound = upper bound for column\"\"\"\n",
    "    \n",
    "    #extract the quantiles for the column\n",
    "    lower_quantile = dataframe[column_name].quantile(0.25)\n",
    "    upper_quantile = dataframe[column_name].quantile(0.75)\n",
    "    #cauclat IQR\n",
    "    IQR = upper_quantile - lower_quantile\n",
    "    \n",
    "    #extract lower and upper bound\n",
    "    lower_bound = lower_quantile - multiple * IQR\n",
    "    upper_bound = upper_quantile + multiple * IQR\n",
    "    \n",
    "    #retrun these values\n",
    "    return lower_bound, upper_bound\n",
    "#set the columns we want\n",
    "columns = ['trestbps', 'chol', 'oldpeak', 'ca', 'thal']\n",
    "#create a dictionary to store the bounds\n",
    "column_bounds = {}\n",
    "#iteratre over each column to extract bounds\n",
    "for column in columns:\n",
    "    #extract normal and extreme bounds\n",
    "    lower_bound, upper_bound =  IQR_bounds(data, column, 1.5)\n",
    "    #send them to the dictionary\n",
    "    column_bounds[column] = [lower_bound, upper_bound]\n",
    "#create the normal dataframe\n",
    "df_new_IQR_AD = data[(data[\"trestbps\"] < column_bounds[\"trestbps\"][0]) | \n",
    "                         (data[\"trestbps\"] > column_bounds[\"trestbps\"][1]) |\n",
    "                         (data[\"chol\"] < column_bounds[\"chol\"][0]) | \n",
    "                         (data[\"chol\"] > column_bounds[\"chol\"][1]) |\n",
    "                       (data[\"oldpeak\"] < column_bounds[\"oldpeak\"][0]) | \n",
    "                         (data[\"oldpeak\"] > column_bounds[\"oldpeak\"][1]) |\n",
    "                         (data[\"ca\"] < column_bounds[\"ca\"][0]) | \n",
    "                         (data[\"ca\"] > column_bounds[\"ca\"][1])|\n",
    "                         (data[\"thal\"] < column_bounds[\"thal\"][0]) | \n",
    "                         (data[\"thal\"] > column_bounds[\"thal\"][1])\n",
    "                        ]"
   ]
  },
  {
   "cell_type": "code",
   "execution_count": 463,
   "metadata": {},
   "outputs": [
    {
     "data": {
      "image/png": "[encoded data removed]",
      "text/plain": [
       "<Figure size 2880x1440 with 14 Axes>"
      ]
     },
     "metadata": {
      "needs_background": "light"
     },
     "output_type": "display_data"
    }
   ],
   "source": [
    "red_circle=dict(markerfacecolor=\"red\",marker=\"o\",markeredgecolor=\"white\")\n",
    "fig, axs = plt.subplots(1,len(df_new_IQR_AD.columns),figsize=(40,20))\n",
    "for i, ax in enumerate(axs.flat):\n",
    "    ax.boxplot(df_new_IQR_AD.iloc[:,i],flierprops=red_circle)\n",
    "    ax.set_title(df_new_IQR_AD.columns[i],fontsize=20,fontweight=\"bold\")\n",
    "    ax.tick_params(axis=\"y\",labelsize=14)\n",
    "    \n",
    "plt.tight_layout()"
   ]
  },
  {
   "cell_type": "code",
   "execution_count": null,
   "metadata": {},
   "outputs": [],
   "source": []
  },
  {
   "cell_type": "code",
   "execution_count": null,
   "metadata": {},
   "outputs": [],
   "source": []
  },
  {
   "cell_type": "code",
   "execution_count": null,
   "metadata": {},
   "outputs": [],
   "source": []
  },
  {
   "cell_type": "code",
   "execution_count": null,
   "metadata": {},
   "outputs": [],
   "source": []
  },
  {
   "cell_type": "code",
   "execution_count": null,
   "metadata": {},
   "outputs": [],
   "source": []
  },
  {
   "cell_type": "code",
   "execution_count": null,
   "metadata": {},
   "outputs": [],
   "source": []
  },
  {
   "cell_type": "code",
   "execution_count": null,
   "metadata": {},
   "outputs": [],
   "source": []
  },
  {
   "cell_type": "code",
   "execution_count": null,
   "metadata": {},
   "outputs": [],
   "source": []
  },
  {
   "cell_type": "code",
   "execution_count": null,
   "metadata": {},
   "outputs": [],
   "source": []
  },
  {
   "cell_type": "code",
   "execution_count": null,
   "metadata": {},
   "outputs": [],
   "source": []
  },
  {
   "cell_type": "code",
   "execution_count": null,
   "metadata": {},
   "outputs": [],
   "source": []
  },
  {
   "cell_type": "code",
   "execution_count": null,
   "metadata": {},
   "outputs": [],
   "source": []
  },
  {
   "cell_type": "code",
   "execution_count": null,
   "metadata": {},
   "outputs": [],
   "source": []
  },
  {
   "cell_type": "code",
   "execution_count": null,
   "metadata": {},
   "outputs": [],
   "source": []
  },
  {
   "cell_type": "code",
   "execution_count": null,
   "metadata": {},
   "outputs": [],
   "source": []
  },
  {
   "cell_type": "code",
   "execution_count": null,
   "metadata": {},
   "outputs": [],
   "source": []
  },
  {
   "cell_type": "code",
   "execution_count": null,
   "metadata": {},
   "outputs": [],
   "source": []
  },
  {
   "cell_type": "code",
   "execution_count": null,
   "metadata": {},
   "outputs": [],
   "source": []
  },
  {
   "cell_type": "code",
   "execution_count": null,
   "metadata": {},
   "outputs": [],
   "source": []
  },
  {
   "cell_type": "code",
   "execution_count": null,
   "metadata": {},
   "outputs": [],
   "source": []
  },
  {
   "cell_type": "code",
   "execution_count": null,
   "metadata": {},
   "outputs": [],
   "source": []
  },
  {
   "cell_type": "code",
   "execution_count": null,
   "metadata": {},
   "outputs": [],
   "source": []
  },
  {
   "cell_type": "code",
   "execution_count": null,
   "metadata": {},
   "outputs": [],
   "source": []
  },
  {
   "cell_type": "code",
   "execution_count": 7,
   "metadata": {},
   "outputs": [],
   "source": [
    "Accuracy = (0.86,0.90,1.0,0.98,0.80,0.90,0.96,0.96,0.98)"
   ]
  },
  {
   "cell_type": "code",
   "execution_count": 8,
   "metadata": {},
   "outputs": [
    {
     "data": {
      "text/plain": [
       "9"
      ]
     },
     "execution_count": 8,
     "metadata": {},
     "output_type": "execute_result"
    }
   ],
   "source": [
    "len(Accuracy)"
   ]
  },
  {
   "cell_type": "code",
   "execution_count": 9,
   "metadata": {},
   "outputs": [],
   "source": [
    "Classifier = [\"LR\",\"SVM\",\"RF\",\"DT\",\"NB\",\"K-NN\",\"GB\",\"AB\",\"XGBOOST\"]\n",
    "F1_score=(0.85,0.90,1,0.99,0.79,0.91,0.96,0.97,0.99)"
   ]
  },
  {
   "cell_type": "code",
   "execution_count": 10,
   "metadata": {
    "scrolled": true
   },
   "outputs": [
    {
     "data": {
      "text/plain": [
       "9"
      ]
     },
     "execution_count": 10,
     "metadata": {},
     "output_type": "execute_result"
    }
   ],
   "source": [
    "len(Classifier)"
   ]
  },
  {
   "cell_type": "code",
   "execution_count": 11,
   "metadata": {},
   "outputs": [],
   "source": [
    "import matplotlib.pyplot as plt\n",
    "import numpy as np"
   ]
  },
  {
   "cell_type": "code",
   "execution_count": 18,
   "metadata": {},
   "outputs": [
    {
     "data": {
      "image/png": "[encoded data removed]",
      "text/plain": [
       "<Figure size 432x288 with 1 Axes>"
      ]
     },
     "metadata": {
      "needs_background": "light"
     },
     "output_type": "display_data"
    }
   ],
   "source": [
    "w=0.4\n",
    "bar1=np.arange(len(Classifier))\n",
    "plt.ylim([0.70,1.02])\n",
    "\n",
    "bar2=[i+w for i in bar1]\n",
    "plt.bar(bar1,Accuracy,0.4,label=\"Accuracy\")\n",
    "plt.bar(bar2,F1_score,0.4,label=\"F1 value\")\n",
    "plt.xlabel(\"Classifier\")\n",
    "plt.ylabel(\"accuracy and f1 score in %\")\n",
    "plt.xticks(bar1+w/2,Classifier)\n",
    "plt.legend()\n",
    "plt.savefig('test_4.jpg')\n"
   ]
  },
  {
   "cell_type": "code",
   "execution_count": null,
   "metadata": {},
   "outputs": [],
   "source": []
  },
  {
   "cell_type": "code",
   "execution_count": null,
   "metadata": {},
   "outputs": [],
   "source": []
  },
  {
   "cell_type": "code",
   "execution_count": null,
   "metadata": {},
   "outputs": [],
   "source": []
  },
  {
   "cell_type": "code",
   "execution_count": null,
   "metadata": {},
   "outputs": [],
   "source": []
  },
  {
   "cell_type": "code",
   "execution_count": null,
   "metadata": {},
   "outputs": [],
   "source": []
  },
  {
   "cell_type": "code",
   "execution_count": null,
   "metadata": {},
   "outputs": [],
   "source": []
  },
  {
   "cell_type": "code",
   "execution_count": null,
   "metadata": {},
   "outputs": [],
   "source": []
  },
  {
   "cell_type": "code",
   "execution_count": null,
   "metadata": {},
   "outputs": [],
   "source": []
  },
  {
   "cell_type": "code",
   "execution_count": null,
   "metadata": {},
   "outputs": [],
   "source": []
  },
  {
   "cell_type": "code",
   "execution_count": null,
   "metadata": {},
   "outputs": [],
   "source": []
  }
 ],
 "metadata": {
  "kernelspec": {
   "display_name": "Python 3",
   "language": "python",
   "name": "python3"
  },
  "language_info": {
   "codemirror_mode": {
    "name": "ipython",
    "version": 3
   },
   "file_extension": ".py",
   "mimetype": "text/x-python",
   "name": "python",
   "nbconvert_exporter": "python",
   "pygments_lexer": "ipython3",
   "version": "3.8.5"
  }
 },
 "nbformat": 4,
 "nbformat_minor": 4
}
